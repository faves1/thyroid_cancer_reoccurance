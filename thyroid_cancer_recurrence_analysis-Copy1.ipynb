{
 "cells": [
  {
   "cell_type": "markdown",
   "metadata": {
    "id": "k3LcJfdx8STs"
   },
   "source": [
    "# Thyroid Cancer Recurrence Detection Model"
   ]
  },
  {
   "cell_type": "markdown",
   "metadata": {
    "id": "KEH4dkt38STv"
   },
   "source": [
    "# Introduction"
   ]
  },
  {
   "cell_type": "markdown",
   "metadata": {
    "id": "jdaNKjpW8STw"
   },
   "source": [
    "Thyroid cancer is one of the most common endocrine malignancies, with a steadily increasing global incidence over the past few decades. While the majority of thyroid cancers are well-differentiated and have favorable prognoses with effective treatment options, a significant proportion of patients experience recurrence.\n",
    "\n",
    "Recurrent thyroid cancer poses challenges in clinical management, leading to potential complications such as diminished quality of life, increased healthcare costs, and, in severe cases, a higher risk of mortality. Early identification of patients at high risk for recurrence is crucial for timely intervention, personalized treatment, and improved outcomes."
   ]
  },
  {
   "cell_type": "markdown",
   "metadata": {
    "id": "pbWBgMzB8STx"
   },
   "source": [
    "# Building a model"
   ]
  },
  {
   "cell_type": "markdown",
   "metadata": {
    "id": "2FG32vsP8STx"
   },
   "source": [
    "Developing robust ML models for thyroid cancer recurrence not only enhances the precision of prognostication but also contributes to reducing unnecessary interventions for low-risk patients, ultimately improving patient outcomes and resource allocation. As the prevalence of thyroid cancer continues to rise, the integration of machine learning into its management represents a critical step toward the future of precision oncology."
   ]
  },
  {
   "cell_type": "markdown",
   "metadata": {
    "id": "Tnyu5mmC8STy"
   },
   "source": [
    "# Aim"
   ]
  },
  {
   "cell_type": "markdown",
   "metadata": {
    "id": "MRBlSeAJ8STy"
   },
   "source": [
    "\n",
    "This work aims to enhance the likelihood of early detection of recurrence. Understanding their risk of recurrence empowers patients to make informed lifestyle adjustments and maintain appropriate follow-up with their healthcare providers."
   ]
  },
  {
   "cell_type": "code",
   "execution_count": 61,
   "metadata": {
    "id": "YPZJX8-G8STy"
   },
   "outputs": [],
   "source": [
    "#importing necessary Libraries\n",
    "import warnings\n",
    "warnings.filterwarnings('ignore')\n",
    "\n",
    "import pandas as pd\n",
    "import numpy as np\n",
    "import matplotlib.pyplot as plt\n",
    "import seaborn as sns\n",
    "pd.set_option('display.max_column', None)"
   ]
  },
  {
   "cell_type": "code",
   "execution_count": 62,
   "metadata": {
    "id": "S22A7Qyd8STz"
   },
   "outputs": [],
   "source": [
    "# Loading the dataset\n",
    "df = pd.read_csv(\"Thyroid_Diff.csv\")"
   ]
  },
  {
   "cell_type": "code",
   "execution_count": 63,
   "metadata": {
    "colab": {
     "base_uri": "https://localhost:8080/",
     "height": 330
    },
    "id": "Ruk3P-Cn8STz",
    "outputId": "53950389-5a80-44eb-d580-07310b1d42b7",
    "scrolled": true
   },
   "outputs": [
    {
     "data": {
      "text/html": [
       "<div>\n",
       "<style scoped>\n",
       "    .dataframe tbody tr th:only-of-type {\n",
       "        vertical-align: middle;\n",
       "    }\n",
       "\n",
       "    .dataframe tbody tr th {\n",
       "        vertical-align: top;\n",
       "    }\n",
       "\n",
       "    .dataframe thead th {\n",
       "        text-align: right;\n",
       "    }\n",
       "</style>\n",
       "<table border=\"1\" class=\"dataframe\">\n",
       "  <thead>\n",
       "    <tr style=\"text-align: right;\">\n",
       "      <th></th>\n",
       "      <th>Age</th>\n",
       "      <th>Gender</th>\n",
       "      <th>Smoking</th>\n",
       "      <th>Hx Smoking</th>\n",
       "      <th>Hx Radiothreapy</th>\n",
       "      <th>Thyroid Function</th>\n",
       "      <th>Physical Examination</th>\n",
       "      <th>Adenopathy</th>\n",
       "      <th>Pathology</th>\n",
       "      <th>Focality</th>\n",
       "      <th>Risk</th>\n",
       "      <th>T</th>\n",
       "      <th>N</th>\n",
       "      <th>M</th>\n",
       "      <th>Stage</th>\n",
       "      <th>Response</th>\n",
       "      <th>Recurred</th>\n",
       "    </tr>\n",
       "  </thead>\n",
       "  <tbody>\n",
       "    <tr>\n",
       "      <th>0</th>\n",
       "      <td>27</td>\n",
       "      <td>F</td>\n",
       "      <td>No</td>\n",
       "      <td>No</td>\n",
       "      <td>No</td>\n",
       "      <td>Euthyroid</td>\n",
       "      <td>Single nodular goiter-left</td>\n",
       "      <td>No</td>\n",
       "      <td>Micropapillary</td>\n",
       "      <td>Uni-Focal</td>\n",
       "      <td>Low</td>\n",
       "      <td>T1a</td>\n",
       "      <td>N0</td>\n",
       "      <td>M0</td>\n",
       "      <td>I</td>\n",
       "      <td>Indeterminate</td>\n",
       "      <td>No</td>\n",
       "    </tr>\n",
       "    <tr>\n",
       "      <th>1</th>\n",
       "      <td>34</td>\n",
       "      <td>F</td>\n",
       "      <td>No</td>\n",
       "      <td>Yes</td>\n",
       "      <td>No</td>\n",
       "      <td>Euthyroid</td>\n",
       "      <td>Multinodular goiter</td>\n",
       "      <td>No</td>\n",
       "      <td>Micropapillary</td>\n",
       "      <td>Uni-Focal</td>\n",
       "      <td>Low</td>\n",
       "      <td>T1a</td>\n",
       "      <td>N0</td>\n",
       "      <td>M0</td>\n",
       "      <td>I</td>\n",
       "      <td>Excellent</td>\n",
       "      <td>No</td>\n",
       "    </tr>\n",
       "    <tr>\n",
       "      <th>2</th>\n",
       "      <td>30</td>\n",
       "      <td>F</td>\n",
       "      <td>No</td>\n",
       "      <td>No</td>\n",
       "      <td>No</td>\n",
       "      <td>Euthyroid</td>\n",
       "      <td>Single nodular goiter-right</td>\n",
       "      <td>No</td>\n",
       "      <td>Micropapillary</td>\n",
       "      <td>Uni-Focal</td>\n",
       "      <td>Low</td>\n",
       "      <td>T1a</td>\n",
       "      <td>N0</td>\n",
       "      <td>M0</td>\n",
       "      <td>I</td>\n",
       "      <td>Excellent</td>\n",
       "      <td>No</td>\n",
       "    </tr>\n",
       "    <tr>\n",
       "      <th>3</th>\n",
       "      <td>62</td>\n",
       "      <td>F</td>\n",
       "      <td>No</td>\n",
       "      <td>No</td>\n",
       "      <td>No</td>\n",
       "      <td>Euthyroid</td>\n",
       "      <td>Single nodular goiter-right</td>\n",
       "      <td>No</td>\n",
       "      <td>Micropapillary</td>\n",
       "      <td>Uni-Focal</td>\n",
       "      <td>Low</td>\n",
       "      <td>T1a</td>\n",
       "      <td>N0</td>\n",
       "      <td>M0</td>\n",
       "      <td>I</td>\n",
       "      <td>Excellent</td>\n",
       "      <td>No</td>\n",
       "    </tr>\n",
       "    <tr>\n",
       "      <th>4</th>\n",
       "      <td>62</td>\n",
       "      <td>F</td>\n",
       "      <td>No</td>\n",
       "      <td>No</td>\n",
       "      <td>No</td>\n",
       "      <td>Euthyroid</td>\n",
       "      <td>Multinodular goiter</td>\n",
       "      <td>No</td>\n",
       "      <td>Micropapillary</td>\n",
       "      <td>Multi-Focal</td>\n",
       "      <td>Low</td>\n",
       "      <td>T1a</td>\n",
       "      <td>N0</td>\n",
       "      <td>M0</td>\n",
       "      <td>I</td>\n",
       "      <td>Excellent</td>\n",
       "      <td>No</td>\n",
       "    </tr>\n",
       "  </tbody>\n",
       "</table>\n",
       "</div>"
      ],
      "text/plain": [
       "   Age Gender Smoking Hx Smoking Hx Radiothreapy Thyroid Function  \\\n",
       "0   27      F      No         No              No        Euthyroid   \n",
       "1   34      F      No        Yes              No        Euthyroid   \n",
       "2   30      F      No         No              No        Euthyroid   \n",
       "3   62      F      No         No              No        Euthyroid   \n",
       "4   62      F      No         No              No        Euthyroid   \n",
       "\n",
       "          Physical Examination Adenopathy       Pathology     Focality Risk  \\\n",
       "0   Single nodular goiter-left         No  Micropapillary    Uni-Focal  Low   \n",
       "1          Multinodular goiter         No  Micropapillary    Uni-Focal  Low   \n",
       "2  Single nodular goiter-right         No  Micropapillary    Uni-Focal  Low   \n",
       "3  Single nodular goiter-right         No  Micropapillary    Uni-Focal  Low   \n",
       "4          Multinodular goiter         No  Micropapillary  Multi-Focal  Low   \n",
       "\n",
       "     T   N   M Stage       Response Recurred  \n",
       "0  T1a  N0  M0     I  Indeterminate       No  \n",
       "1  T1a  N0  M0     I      Excellent       No  \n",
       "2  T1a  N0  M0     I      Excellent       No  \n",
       "3  T1a  N0  M0     I      Excellent       No  \n",
       "4  T1a  N0  M0     I      Excellent       No  "
      ]
     },
     "execution_count": 63,
     "metadata": {},
     "output_type": "execute_result"
    }
   ],
   "source": [
    "# Show the first 5 rows\n",
    "df.head()"
   ]
  },
  {
   "cell_type": "code",
   "execution_count": 191,
   "metadata": {},
   "outputs": [
    {
     "data": {
      "text/plain": [
       "array(['Indeterminate', 'Excellent', 'Structural Incomplete',\n",
       "       'Biochemical Incomplete'], dtype=object)"
      ]
     },
     "execution_count": 191,
     "metadata": {},
     "output_type": "execute_result"
    }
   ],
   "source": [
    "df['Response'].unique()"
   ]
  },
  {
   "cell_type": "markdown",
   "metadata": {
    "id": "7RAWVecXHaGy"
   },
   "source": [
    "## **Features and Meaning**"
   ]
  },
  {
   "cell_type": "markdown",
   "metadata": {
    "id": "jF4MelAcIB-u"
   },
   "source": [
    "Age: Represents the age of individuals in the dataset.\n",
    "\n",
    "Gender: Indicates the gender of individuals (e.g., Male or Female).\n",
    "\n",
    "Smoking: Possibly an attribute related to smoking behavior.\n",
    "\n",
    "Smoking History: Indicates whether individuals have a history of smoking (e.g., Yes or No).\n",
    "\n",
    "Radiotherapy History: Indicates whether individuals have a history of radiotherapy treatment (e.g., Yes or No).\n",
    "\n",
    "Thyroid Function: Possibly indicates the status or function of the thyroid gland.\n",
    "\n",
    "Physical Examination: Describes the results of a physical examination, likely related to the thyroid.\n",
    "\n",
    "Adenopathy: Indicates the presence and location of adenopathy (enlarged lymph nodes).\n",
    "\n",
    "Types of Thyroid Cancer (Pathology): Describes the types of thyroid cancer based on pathology examinations, including specific subtypes like \"Micropapillary Papillary,\" \"Follicular,\" and \"Hürthle cell.\"\n",
    "\n",
    "Focality: Indicates whether the thyroid cancer is unifocal or multifocal.\n",
    "\n",
    "Risk: Represents the risk category associated with thyroid cancer.\n",
    "\n",
    "Tumor: Represents the T (Tumor) stage of thyroid cancer, indicating the size and extent of the primary tumor.\n",
    "\n",
    "Lymph Nodes: Represents the N (Node) stage of thyroid cancer, indicating the involvement of nearby lymph nodes.\n",
    "\n",
    "Cancer Metastasis: Represents the M (Metastasis) stage of thyroid cancer, indicating whether the cancer has spread to distant organs.\n",
    "\n",
    "Stage: Represents the overall stage of thyroid cancer based on the combination of T, N, and M stages.\n",
    "\n",
    "Treatment Response: Describes the response to treatment, including categories such as 'Indeterminate,' 'Excellent,' 'Structural Incomplete,' and 'Biochemical Incomplete.'\n",
    "\n",
    "Recurred: Indicates whether thyroid cancer has recurred (e.g., Yes or No)"
   ]
  },
  {
   "cell_type": "markdown",
   "metadata": {
    "id": "-77GO0Wq8ST0"
   },
   "source": [
    "## **Data Preprocessing**"
   ]
  },
  {
   "cell_type": "code",
   "execution_count": 67,
   "metadata": {
    "colab": {
     "base_uri": "https://localhost:8080/",
     "height": 617
    },
    "id": "BCYJcWA98ST0",
    "outputId": "de34a54d-25c1-41b1-d395-d56ca1999191",
    "scrolled": true
   },
   "outputs": [
    {
     "data": {
      "text/plain": [
       "Age                     0\n",
       "Gender                  0\n",
       "Smoking                 0\n",
       "Hx Smoking              0\n",
       "Hx Radiothreapy         0\n",
       "Thyroid Function        0\n",
       "Physical Examination    0\n",
       "Adenopathy              0\n",
       "Pathology               0\n",
       "Focality                0\n",
       "Risk                    0\n",
       "T                       0\n",
       "N                       0\n",
       "M                       0\n",
       "Stage                   0\n",
       "Response                0\n",
       "Recurred                0\n",
       "dtype: int64"
      ]
     },
     "execution_count": 67,
     "metadata": {},
     "output_type": "execute_result"
    }
   ],
   "source": [
    "# Handling Missing Values\n",
    "df.isnull().sum()"
   ]
  },
  {
   "cell_type": "code",
   "execution_count": 68,
   "metadata": {
    "colab": {
     "base_uri": "https://localhost:8080/",
     "height": 81
    },
    "id": "eGnhD5ys8ST1",
    "outputId": "62ed4bd7-daff-4c41-9751-60d440730500"
   },
   "outputs": [
    {
     "data": {
      "text/html": [
       "<div>\n",
       "<style scoped>\n",
       "    .dataframe tbody tr th:only-of-type {\n",
       "        vertical-align: middle;\n",
       "    }\n",
       "\n",
       "    .dataframe tbody tr th {\n",
       "        vertical-align: top;\n",
       "    }\n",
       "\n",
       "    .dataframe thead th {\n",
       "        text-align: right;\n",
       "    }\n",
       "</style>\n",
       "<table border=\"1\" class=\"dataframe\">\n",
       "  <thead>\n",
       "    <tr style=\"text-align: right;\">\n",
       "      <th></th>\n",
       "      <th>count</th>\n",
       "      <th>mean</th>\n",
       "      <th>std</th>\n",
       "      <th>min</th>\n",
       "      <th>25%</th>\n",
       "      <th>50%</th>\n",
       "      <th>75%</th>\n",
       "      <th>max</th>\n",
       "    </tr>\n",
       "  </thead>\n",
       "  <tbody>\n",
       "    <tr>\n",
       "      <th>Age</th>\n",
       "      <td>383.0</td>\n",
       "      <td>40.866841</td>\n",
       "      <td>15.134494</td>\n",
       "      <td>15.0</td>\n",
       "      <td>29.0</td>\n",
       "      <td>37.0</td>\n",
       "      <td>51.0</td>\n",
       "      <td>82.0</td>\n",
       "    </tr>\n",
       "  </tbody>\n",
       "</table>\n",
       "</div>"
      ],
      "text/plain": [
       "     count       mean        std   min   25%   50%   75%   max\n",
       "Age  383.0  40.866841  15.134494  15.0  29.0  37.0  51.0  82.0"
      ]
     },
     "execution_count": 68,
     "metadata": {},
     "output_type": "execute_result"
    }
   ],
   "source": [
    "df.describe().T"
   ]
  },
  {
   "cell_type": "code",
   "execution_count": 69,
   "metadata": {
    "colab": {
     "base_uri": "https://localhost:8080/",
     "height": 617
    },
    "id": "iAPytOVo8ST1",
    "outputId": "c8e028d2-fcbf-4aa6-d7d8-1ecd13f29cde"
   },
   "outputs": [
    {
     "data": {
      "text/plain": [
       "Age                     65\n",
       "Gender                   2\n",
       "Smoking                  2\n",
       "Hx Smoking               2\n",
       "Hx Radiothreapy          2\n",
       "Thyroid Function         5\n",
       "Physical Examination     5\n",
       "Adenopathy               6\n",
       "Pathology                4\n",
       "Focality                 2\n",
       "Risk                     3\n",
       "T                        7\n",
       "N                        3\n",
       "M                        2\n",
       "Stage                    5\n",
       "Response                 4\n",
       "Recurred                 2\n",
       "dtype: int64"
      ]
     },
     "execution_count": 69,
     "metadata": {},
     "output_type": "execute_result"
    }
   ],
   "source": [
    "df.nunique()"
   ]
  },
  {
   "cell_type": "code",
   "execution_count": 70,
   "metadata": {
    "colab": {
     "base_uri": "https://localhost:8080/"
    },
    "id": "dhmSoFKg8ST2",
    "outputId": "9489297d-d1f9-4b99-854d-9c2bfde3445b"
   },
   "outputs": [
    {
     "data": {
      "text/plain": [
       "19"
      ]
     },
     "execution_count": 70,
     "metadata": {},
     "output_type": "execute_result"
    }
   ],
   "source": [
    "# checking for duplicates\n",
    "df.duplicated().sum()"
   ]
  },
  {
   "cell_type": "code",
   "execution_count": 71,
   "metadata": {
    "id": "1zseTOfE8ST2"
   },
   "outputs": [],
   "source": [
    "# remvoing duplicates\n",
    "df.drop_duplicates(inplace=True)"
   ]
  },
  {
   "cell_type": "code",
   "execution_count": 72,
   "metadata": {
    "colab": {
     "base_uri": "https://localhost:8080/"
    },
    "id": "R6eW0CTh8ST3",
    "outputId": "cf06c621-4d6b-4700-dd20-030268ec60ed"
   },
   "outputs": [
    {
     "name": "stdout",
     "output_type": "stream",
     "text": [
      "<class 'pandas.core.frame.DataFrame'>\n",
      "Index: 364 entries, 0 to 382\n",
      "Data columns (total 17 columns):\n",
      " #   Column                Non-Null Count  Dtype \n",
      "---  ------                --------------  ----- \n",
      " 0   Age                   364 non-null    int64 \n",
      " 1   Gender                364 non-null    object\n",
      " 2   Smoking               364 non-null    object\n",
      " 3   Hx Smoking            364 non-null    object\n",
      " 4   Hx Radiothreapy       364 non-null    object\n",
      " 5   Thyroid Function      364 non-null    object\n",
      " 6   Physical Examination  364 non-null    object\n",
      " 7   Adenopathy            364 non-null    object\n",
      " 8   Pathology             364 non-null    object\n",
      " 9   Focality              364 non-null    object\n",
      " 10  Risk                  364 non-null    object\n",
      " 11  T                     364 non-null    object\n",
      " 12  N                     364 non-null    object\n",
      " 13  M                     364 non-null    object\n",
      " 14  Stage                 364 non-null    object\n",
      " 15  Response              364 non-null    object\n",
      " 16  Recurred              364 non-null    object\n",
      "dtypes: int64(1), object(16)\n",
      "memory usage: 51.2+ KB\n"
     ]
    }
   ],
   "source": [
    "df.info()"
   ]
  },
  {
   "cell_type": "markdown",
   "metadata": {
    "id": "odMqv0tY8ST4"
   },
   "source": [
    "From my dataset it could be seen i have only one numerical value (Age). I will need to encode all my categorical values"
   ]
  },
  {
   "cell_type": "markdown",
   "metadata": {
    "id": "dQVSL_SnIO12"
   },
   "source": [
    "## **Analysing Features**"
   ]
  },
  {
   "cell_type": "code",
   "execution_count": 75,
   "metadata": {
    "colab": {
     "base_uri": "https://localhost:8080/",
     "height": 557
    },
    "id": "zPZvjcRqIWx3",
    "outputId": "51fc098b-8083-43b6-d1ee-0ba2127df786"
   },
   "outputs": [
    {
     "data": {
      "image/png": "[encoded data removed]",
      "text/plain": [
       "<Figure size 2000x800 with 3 Axes>"
      ]
     },
     "metadata": {},
     "output_type": "display_data"
    }
   ],
   "source": [
    "fig, axes = plt.subplots(1, 3, figsize=(20, 8))\n",
    "\n",
    "sns.countplot(x='Gender', data=df, palette='gist_rainbow_r', ax=axes[0])\n",
    "axes[0].set_title('Gender Distribution')\n",
    "axes[0].set_xlabel('Gender')\n",
    "axes[0].set_ylabel('Count')\n",
    "\n",
    "sns.countplot(x='Smoking', data=df, palette='Set2', ax=axes[1])\n",
    "axes[1].set_title('Smoking Distribution')\n",
    "axes[1].set_xlabel('Smoking')\n",
    "axes[1].set_ylabel('Count')\n",
    "\n",
    "sns.countplot(x='Response', data=df, palette='OrRd',  ax=axes[2])\n",
    "axes[2].set_title('Treatment Response Distribution')\n",
    "axes[2].set_xlabel('Treatment Response')\n",
    "axes[2].set_ylabel('Count')\n",
    "axes[2].tick_params(axis='x', rotation=45)\n",
    "plt.show()"
   ]
  },
  {
   "cell_type": "markdown",
   "metadata": {
    "id": "mu6mEFeBJdDM"
   },
   "source": [
    "## **Insights**"
   ]
  },
  {
   "cell_type": "markdown",
   "metadata": {
    "id": "0IBPFzumJiN1"
   },
   "source": [
    "\n",
    "\n",
    "1.   From the above plot we conclude that the majority of people who has a thyroid Cancer are Female\n",
    "2.   The Smoking doesnt affect on the thyroid cancer\n",
    "3.  Rate of recovery from the Thyroid cancer are very large\n",
    "\n"
   ]
  },
  {
   "cell_type": "code",
   "execution_count": 78,
   "metadata": {
    "colab": {
     "base_uri": "https://localhost:8080/",
     "height": 676
    },
    "id": "0klJhSrZJ0r9",
    "outputId": "5319b8a7-cc27-4d13-f299-41a68d89a4c8"
   },
   "outputs": [
    {
     "data": {
      "image/png": "[encoded data removed]",
      "text/plain": [
       "<Figure size 1400x800 with 1 Axes>"
      ]
     },
     "metadata": {},
     "output_type": "display_data"
    }
   ],
   "source": [
    "#How Age varied across Risk and its relationship\n",
    "\n",
    "plt.figure(figsize=(14, 8))\n",
    "sns.boxplot(x='Risk', y='Age', data=df)\n",
    "plt.title('Distribution of Ages by Risk Category')\n",
    "plt.xlabel('Risk Category')\n",
    "plt.ylabel('Age')\n",
    "plt.show()"
   ]
  },
  {
   "cell_type": "markdown",
   "metadata": {
    "id": "etSIYgo6KCY4"
   },
   "source": [
    "# **Insights**"
   ]
  },
  {
   "cell_type": "markdown",
   "metadata": {
    "id": "dnrdlEx-KNxE"
   },
   "source": [
    "Here you can see there is relationship between Age and Risk. Older the individual is risk to Thyroid Cancer."
   ]
  },
  {
   "cell_type": "code",
   "execution_count": 81,
   "metadata": {
    "colab": {
     "base_uri": "https://localhost:8080/",
     "height": 676
    },
    "id": "L1S610-DKTXf",
    "outputId": "fc2cb593-6ceb-469b-ee26-e5a99aad5b6b"
   },
   "outputs": [
    {
     "data": {
      "image/png": "[encoded data removed]",
      "text/plain": [
       "<Figure size 1400x800 with 1 Axes>"
      ]
     },
     "metadata": {},
     "output_type": "display_data"
    }
   ],
   "source": [
    "plt.figure(figsize=(14, 8))\n",
    "sns.lineplot(x='T', y='Age', data=df)\n",
    "plt.title('Distribution of Ages by Tumor Size')\n",
    "plt.xlabel('Tumor Size')\n",
    "plt.ylabel('Age')\n",
    "plt.show()"
   ]
  },
  {
   "cell_type": "markdown",
   "metadata": {
    "id": "hp4KxmJdKaQG"
   },
   "source": [
    "The higher the age, the higher the tumor size, I can say there is a relationship."
   ]
  },
  {
   "cell_type": "markdown",
   "metadata": {
    "id": "FCE4qNG88ST4"
   },
   "source": [
    "# Feature Engineering"
   ]
  },
  {
   "cell_type": "code",
   "execution_count": 84,
   "metadata": {
    "colab": {
     "base_uri": "https://localhost:8080/",
     "height": 300
    },
    "id": "LFsG2C9W8ST5",
    "outputId": "1352c9b9-f549-4a8e-f2e6-653fb067a4b5"
   },
   "outputs": [
    {
     "data": {
      "text/html": [
       "<div>\n",
       "<style scoped>\n",
       "    .dataframe tbody tr th:only-of-type {\n",
       "        vertical-align: middle;\n",
       "    }\n",
       "\n",
       "    .dataframe tbody tr th {\n",
       "        vertical-align: top;\n",
       "    }\n",
       "\n",
       "    .dataframe thead th {\n",
       "        text-align: right;\n",
       "    }\n",
       "</style>\n",
       "<table border=\"1\" class=\"dataframe\">\n",
       "  <thead>\n",
       "    <tr style=\"text-align: right;\">\n",
       "      <th></th>\n",
       "      <th>Age</th>\n",
       "    </tr>\n",
       "  </thead>\n",
       "  <tbody>\n",
       "    <tr>\n",
       "      <th>count</th>\n",
       "      <td>364.00000</td>\n",
       "    </tr>\n",
       "    <tr>\n",
       "      <th>mean</th>\n",
       "      <td>41.25000</td>\n",
       "    </tr>\n",
       "    <tr>\n",
       "      <th>std</th>\n",
       "      <td>15.31436</td>\n",
       "    </tr>\n",
       "    <tr>\n",
       "      <th>min</th>\n",
       "      <td>15.00000</td>\n",
       "    </tr>\n",
       "    <tr>\n",
       "      <th>25%</th>\n",
       "      <td>30.00000</td>\n",
       "    </tr>\n",
       "    <tr>\n",
       "      <th>50%</th>\n",
       "      <td>38.00000</td>\n",
       "    </tr>\n",
       "    <tr>\n",
       "      <th>75%</th>\n",
       "      <td>52.00000</td>\n",
       "    </tr>\n",
       "    <tr>\n",
       "      <th>max</th>\n",
       "      <td>82.00000</td>\n",
       "    </tr>\n",
       "  </tbody>\n",
       "</table>\n",
       "</div>"
      ],
      "text/plain": [
       "             Age\n",
       "count  364.00000\n",
       "mean    41.25000\n",
       "std     15.31436\n",
       "min     15.00000\n",
       "25%     30.00000\n",
       "50%     38.00000\n",
       "75%     52.00000\n",
       "max     82.00000"
      ]
     },
     "execution_count": 84,
     "metadata": {},
     "output_type": "execute_result"
    }
   ],
   "source": [
    "df.describe()"
   ]
  },
  {
   "cell_type": "markdown",
   "metadata": {
    "id": "0mUv0UUz8ST5"
   },
   "source": [
    "### Engineering Age Class"
   ]
  },
  {
   "cell_type": "code",
   "execution_count": 86,
   "metadata": {
    "colab": {
     "base_uri": "https://localhost:8080/"
    },
    "id": "_os77dfZ8ST6",
    "outputId": "e18cca08-16b1-4e92-c860-564c463a8da4"
   },
   "outputs": [
    {
     "data": {
      "text/plain": [
       "67"
      ]
     },
     "execution_count": 86,
     "metadata": {},
     "output_type": "execute_result"
    }
   ],
   "source": [
    "82 -15"
   ]
  },
  {
   "cell_type": "code",
   "execution_count": 87,
   "metadata": {
    "colab": {
     "base_uri": "https://localhost:8080/"
    },
    "id": "EqJegTTF8ST6",
    "outputId": "a78f82b8-a026-4fa0-9c38-dd2500ac733b"
   },
   "outputs": [
    {
     "data": {
      "text/plain": [
       "6.7"
      ]
     },
     "execution_count": 87,
     "metadata": {},
     "output_type": "execute_result"
    }
   ],
   "source": [
    "67/10"
   ]
  },
  {
   "cell_type": "code",
   "execution_count": 88,
   "metadata": {
    "colab": {
     "base_uri": "https://localhost:8080/"
    },
    "id": "9ga0blGY8ST7",
    "outputId": "bb4f1db0-e4fd-4f89-d208-733d5e4da96f"
   },
   "outputs": [
    {
     "data": {
      "text/plain": [
       "25"
      ]
     },
     "execution_count": 88,
     "metadata": {},
     "output_type": "execute_result"
    }
   ],
   "source": [
    "15 + 10"
   ]
  },
  {
   "cell_type": "code",
   "execution_count": 89,
   "metadata": {
    "colab": {
     "base_uri": "https://localhost:8080/"
    },
    "id": "61qTEIAA8ST7",
    "outputId": "715be6b8-bfaf-4aa2-f698-c6f0503a4a38"
   },
   "outputs": [
    {
     "data": {
      "text/plain": [
       "35"
      ]
     },
     "execution_count": 89,
     "metadata": {},
     "output_type": "execute_result"
    }
   ],
   "source": [
    "25 + 10"
   ]
  },
  {
   "cell_type": "code",
   "execution_count": 90,
   "metadata": {
    "colab": {
     "base_uri": "https://localhost:8080/"
    },
    "id": "_8pOBR6W8ST8",
    "outputId": "c44f0dd4-e373-4e69-eb39-3af3cd287aee"
   },
   "outputs": [
    {
     "data": {
      "text/plain": [
       "45"
      ]
     },
     "execution_count": 90,
     "metadata": {},
     "output_type": "execute_result"
    }
   ],
   "source": [
    "35 + 10"
   ]
  },
  {
   "cell_type": "code",
   "execution_count": 91,
   "metadata": {
    "colab": {
     "base_uri": "https://localhost:8080/"
    },
    "id": "vA1o_aAx8ST8",
    "outputId": "1268d371-aaca-4361-8f48-907af2428340"
   },
   "outputs": [
    {
     "data": {
      "text/plain": [
       "55"
      ]
     },
     "execution_count": 91,
     "metadata": {},
     "output_type": "execute_result"
    }
   ],
   "source": [
    "45+10"
   ]
  },
  {
   "cell_type": "code",
   "execution_count": 92,
   "metadata": {
    "colab": {
     "base_uri": "https://localhost:8080/"
    },
    "id": "yNM2AT2Z8ST8",
    "outputId": "199f5a6b-4cf0-4664-ff0e-ae2b9b970745"
   },
   "outputs": [
    {
     "data": {
      "text/plain": [
       "65"
      ]
     },
     "execution_count": 92,
     "metadata": {},
     "output_type": "execute_result"
    }
   ],
   "source": [
    "55 + 10"
   ]
  },
  {
   "cell_type": "code",
   "execution_count": 93,
   "metadata": {
    "colab": {
     "base_uri": "https://localhost:8080/"
    },
    "id": "HZCMmPTP8ST9",
    "outputId": "e30a28f7-76f1-4937-ddba-010022bdba6b"
   },
   "outputs": [
    {
     "data": {
      "text/plain": [
       "75"
      ]
     },
     "execution_count": 93,
     "metadata": {},
     "output_type": "execute_result"
    }
   ],
   "source": [
    "65 + 10"
   ]
  },
  {
   "cell_type": "code",
   "execution_count": 94,
   "metadata": {
    "id": "kyP4Mmaz8ST9"
   },
   "outputs": [],
   "source": [
    "def age_class(x):\n",
    "    if 15 <= x <= 25:\n",
    "        return 1\n",
    "    elif 26 <= x <= 35:\n",
    "        return 2\n",
    "    elif 36 <= x <= 45:\n",
    "        return 3\n",
    "    elif 46 <= x <= 55:\n",
    "        return 4\n",
    "    elif 56 <= x <= 65:\n",
    "        return 5\n",
    "    elif 66 <= x <= 75:\n",
    "        return 6\n",
    "    elif 76 <= x <= 85:\n",
    "        return 7"
   ]
  },
  {
   "cell_type": "code",
   "execution_count": 95,
   "metadata": {
    "id": "xO9Vdd3c8ST9"
   },
   "outputs": [],
   "source": [
    "df2 = df.copy()"
   ]
  },
  {
   "cell_type": "code",
   "execution_count": 96,
   "metadata": {
    "id": "JklEoU1M8ST9"
   },
   "outputs": [],
   "source": [
    "df2['categorized_age'] = df2['Age'].apply(age_class)"
   ]
  },
  {
   "cell_type": "code",
   "execution_count": 97,
   "metadata": {
    "colab": {
     "base_uri": "https://localhost:8080/",
     "height": 635
    },
    "id": "6Kgl9T9w8ST-",
    "outputId": "2fd25890-f131-4acb-c0a5-e23234a2f55f"
   },
   "outputs": [
    {
     "data": {
      "text/html": [
       "<div>\n",
       "<style scoped>\n",
       "    .dataframe tbody tr th:only-of-type {\n",
       "        vertical-align: middle;\n",
       "    }\n",
       "\n",
       "    .dataframe tbody tr th {\n",
       "        vertical-align: top;\n",
       "    }\n",
       "\n",
       "    .dataframe thead th {\n",
       "        text-align: right;\n",
       "    }\n",
       "</style>\n",
       "<table border=\"1\" class=\"dataframe\">\n",
       "  <thead>\n",
       "    <tr style=\"text-align: right;\">\n",
       "      <th></th>\n",
       "      <th>Age</th>\n",
       "      <th>Gender</th>\n",
       "      <th>Smoking</th>\n",
       "      <th>Hx Smoking</th>\n",
       "      <th>Hx Radiothreapy</th>\n",
       "      <th>Thyroid Function</th>\n",
       "      <th>Physical Examination</th>\n",
       "      <th>Adenopathy</th>\n",
       "      <th>Pathology</th>\n",
       "      <th>Focality</th>\n",
       "      <th>Risk</th>\n",
       "      <th>T</th>\n",
       "      <th>N</th>\n",
       "      <th>M</th>\n",
       "      <th>Stage</th>\n",
       "      <th>Response</th>\n",
       "      <th>Recurred</th>\n",
       "      <th>categorized_age</th>\n",
       "    </tr>\n",
       "  </thead>\n",
       "  <tbody>\n",
       "    <tr>\n",
       "      <th>0</th>\n",
       "      <td>27</td>\n",
       "      <td>F</td>\n",
       "      <td>No</td>\n",
       "      <td>No</td>\n",
       "      <td>No</td>\n",
       "      <td>Euthyroid</td>\n",
       "      <td>Single nodular goiter-left</td>\n",
       "      <td>No</td>\n",
       "      <td>Micropapillary</td>\n",
       "      <td>Uni-Focal</td>\n",
       "      <td>Low</td>\n",
       "      <td>T1a</td>\n",
       "      <td>N0</td>\n",
       "      <td>M0</td>\n",
       "      <td>I</td>\n",
       "      <td>Indeterminate</td>\n",
       "      <td>No</td>\n",
       "      <td>2</td>\n",
       "    </tr>\n",
       "    <tr>\n",
       "      <th>1</th>\n",
       "      <td>34</td>\n",
       "      <td>F</td>\n",
       "      <td>No</td>\n",
       "      <td>Yes</td>\n",
       "      <td>No</td>\n",
       "      <td>Euthyroid</td>\n",
       "      <td>Multinodular goiter</td>\n",
       "      <td>No</td>\n",
       "      <td>Micropapillary</td>\n",
       "      <td>Uni-Focal</td>\n",
       "      <td>Low</td>\n",
       "      <td>T1a</td>\n",
       "      <td>N0</td>\n",
       "      <td>M0</td>\n",
       "      <td>I</td>\n",
       "      <td>Excellent</td>\n",
       "      <td>No</td>\n",
       "      <td>2</td>\n",
       "    </tr>\n",
       "    <tr>\n",
       "      <th>2</th>\n",
       "      <td>30</td>\n",
       "      <td>F</td>\n",
       "      <td>No</td>\n",
       "      <td>No</td>\n",
       "      <td>No</td>\n",
       "      <td>Euthyroid</td>\n",
       "      <td>Single nodular goiter-right</td>\n",
       "      <td>No</td>\n",
       "      <td>Micropapillary</td>\n",
       "      <td>Uni-Focal</td>\n",
       "      <td>Low</td>\n",
       "      <td>T1a</td>\n",
       "      <td>N0</td>\n",
       "      <td>M0</td>\n",
       "      <td>I</td>\n",
       "      <td>Excellent</td>\n",
       "      <td>No</td>\n",
       "      <td>2</td>\n",
       "    </tr>\n",
       "    <tr>\n",
       "      <th>3</th>\n",
       "      <td>62</td>\n",
       "      <td>F</td>\n",
       "      <td>No</td>\n",
       "      <td>No</td>\n",
       "      <td>No</td>\n",
       "      <td>Euthyroid</td>\n",
       "      <td>Single nodular goiter-right</td>\n",
       "      <td>No</td>\n",
       "      <td>Micropapillary</td>\n",
       "      <td>Uni-Focal</td>\n",
       "      <td>Low</td>\n",
       "      <td>T1a</td>\n",
       "      <td>N0</td>\n",
       "      <td>M0</td>\n",
       "      <td>I</td>\n",
       "      <td>Excellent</td>\n",
       "      <td>No</td>\n",
       "      <td>5</td>\n",
       "    </tr>\n",
       "    <tr>\n",
       "      <th>4</th>\n",
       "      <td>62</td>\n",
       "      <td>F</td>\n",
       "      <td>No</td>\n",
       "      <td>No</td>\n",
       "      <td>No</td>\n",
       "      <td>Euthyroid</td>\n",
       "      <td>Multinodular goiter</td>\n",
       "      <td>No</td>\n",
       "      <td>Micropapillary</td>\n",
       "      <td>Multi-Focal</td>\n",
       "      <td>Low</td>\n",
       "      <td>T1a</td>\n",
       "      <td>N0</td>\n",
       "      <td>M0</td>\n",
       "      <td>I</td>\n",
       "      <td>Excellent</td>\n",
       "      <td>No</td>\n",
       "      <td>5</td>\n",
       "    </tr>\n",
       "    <tr>\n",
       "      <th>...</th>\n",
       "      <td>...</td>\n",
       "      <td>...</td>\n",
       "      <td>...</td>\n",
       "      <td>...</td>\n",
       "      <td>...</td>\n",
       "      <td>...</td>\n",
       "      <td>...</td>\n",
       "      <td>...</td>\n",
       "      <td>...</td>\n",
       "      <td>...</td>\n",
       "      <td>...</td>\n",
       "      <td>...</td>\n",
       "      <td>...</td>\n",
       "      <td>...</td>\n",
       "      <td>...</td>\n",
       "      <td>...</td>\n",
       "      <td>...</td>\n",
       "      <td>...</td>\n",
       "    </tr>\n",
       "    <tr>\n",
       "      <th>378</th>\n",
       "      <td>72</td>\n",
       "      <td>M</td>\n",
       "      <td>Yes</td>\n",
       "      <td>Yes</td>\n",
       "      <td>Yes</td>\n",
       "      <td>Euthyroid</td>\n",
       "      <td>Single nodular goiter-right</td>\n",
       "      <td>Right</td>\n",
       "      <td>Papillary</td>\n",
       "      <td>Uni-Focal</td>\n",
       "      <td>High</td>\n",
       "      <td>T4b</td>\n",
       "      <td>N1b</td>\n",
       "      <td>M1</td>\n",
       "      <td>IVB</td>\n",
       "      <td>Biochemical Incomplete</td>\n",
       "      <td>Yes</td>\n",
       "      <td>6</td>\n",
       "    </tr>\n",
       "    <tr>\n",
       "      <th>379</th>\n",
       "      <td>81</td>\n",
       "      <td>M</td>\n",
       "      <td>Yes</td>\n",
       "      <td>No</td>\n",
       "      <td>Yes</td>\n",
       "      <td>Euthyroid</td>\n",
       "      <td>Multinodular goiter</td>\n",
       "      <td>Extensive</td>\n",
       "      <td>Papillary</td>\n",
       "      <td>Multi-Focal</td>\n",
       "      <td>High</td>\n",
       "      <td>T4b</td>\n",
       "      <td>N1b</td>\n",
       "      <td>M1</td>\n",
       "      <td>IVB</td>\n",
       "      <td>Structural Incomplete</td>\n",
       "      <td>Yes</td>\n",
       "      <td>7</td>\n",
       "    </tr>\n",
       "    <tr>\n",
       "      <th>380</th>\n",
       "      <td>72</td>\n",
       "      <td>M</td>\n",
       "      <td>Yes</td>\n",
       "      <td>Yes</td>\n",
       "      <td>No</td>\n",
       "      <td>Euthyroid</td>\n",
       "      <td>Multinodular goiter</td>\n",
       "      <td>Bilateral</td>\n",
       "      <td>Papillary</td>\n",
       "      <td>Multi-Focal</td>\n",
       "      <td>High</td>\n",
       "      <td>T4b</td>\n",
       "      <td>N1b</td>\n",
       "      <td>M1</td>\n",
       "      <td>IVB</td>\n",
       "      <td>Structural Incomplete</td>\n",
       "      <td>Yes</td>\n",
       "      <td>6</td>\n",
       "    </tr>\n",
       "    <tr>\n",
       "      <th>381</th>\n",
       "      <td>61</td>\n",
       "      <td>M</td>\n",
       "      <td>Yes</td>\n",
       "      <td>Yes</td>\n",
       "      <td>Yes</td>\n",
       "      <td>Clinical Hyperthyroidism</td>\n",
       "      <td>Multinodular goiter</td>\n",
       "      <td>Extensive</td>\n",
       "      <td>Hurthel cell</td>\n",
       "      <td>Multi-Focal</td>\n",
       "      <td>High</td>\n",
       "      <td>T4b</td>\n",
       "      <td>N1b</td>\n",
       "      <td>M0</td>\n",
       "      <td>IVA</td>\n",
       "      <td>Structural Incomplete</td>\n",
       "      <td>Yes</td>\n",
       "      <td>5</td>\n",
       "    </tr>\n",
       "    <tr>\n",
       "      <th>382</th>\n",
       "      <td>67</td>\n",
       "      <td>M</td>\n",
       "      <td>Yes</td>\n",
       "      <td>No</td>\n",
       "      <td>No</td>\n",
       "      <td>Euthyroid</td>\n",
       "      <td>Multinodular goiter</td>\n",
       "      <td>Bilateral</td>\n",
       "      <td>Papillary</td>\n",
       "      <td>Multi-Focal</td>\n",
       "      <td>High</td>\n",
       "      <td>T4b</td>\n",
       "      <td>N1b</td>\n",
       "      <td>M0</td>\n",
       "      <td>IVA</td>\n",
       "      <td>Structural Incomplete</td>\n",
       "      <td>Yes</td>\n",
       "      <td>6</td>\n",
       "    </tr>\n",
       "  </tbody>\n",
       "</table>\n",
       "<p>364 rows × 18 columns</p>\n",
       "</div>"
      ],
      "text/plain": [
       "     Age Gender Smoking Hx Smoking Hx Radiothreapy          Thyroid Function  \\\n",
       "0     27      F      No         No              No                 Euthyroid   \n",
       "1     34      F      No        Yes              No                 Euthyroid   \n",
       "2     30      F      No         No              No                 Euthyroid   \n",
       "3     62      F      No         No              No                 Euthyroid   \n",
       "4     62      F      No         No              No                 Euthyroid   \n",
       "..   ...    ...     ...        ...             ...                       ...   \n",
       "378   72      M     Yes        Yes             Yes                 Euthyroid   \n",
       "379   81      M     Yes         No             Yes                 Euthyroid   \n",
       "380   72      M     Yes        Yes              No                 Euthyroid   \n",
       "381   61      M     Yes        Yes             Yes  Clinical Hyperthyroidism   \n",
       "382   67      M     Yes         No              No                 Euthyroid   \n",
       "\n",
       "            Physical Examination Adenopathy       Pathology     Focality  \\\n",
       "0     Single nodular goiter-left         No  Micropapillary    Uni-Focal   \n",
       "1            Multinodular goiter         No  Micropapillary    Uni-Focal   \n",
       "2    Single nodular goiter-right         No  Micropapillary    Uni-Focal   \n",
       "3    Single nodular goiter-right         No  Micropapillary    Uni-Focal   \n",
       "4            Multinodular goiter         No  Micropapillary  Multi-Focal   \n",
       "..                           ...        ...             ...          ...   \n",
       "378  Single nodular goiter-right      Right       Papillary    Uni-Focal   \n",
       "379          Multinodular goiter  Extensive       Papillary  Multi-Focal   \n",
       "380          Multinodular goiter  Bilateral       Papillary  Multi-Focal   \n",
       "381          Multinodular goiter  Extensive    Hurthel cell  Multi-Focal   \n",
       "382          Multinodular goiter  Bilateral       Papillary  Multi-Focal   \n",
       "\n",
       "     Risk    T    N   M Stage                Response Recurred  \\\n",
       "0     Low  T1a   N0  M0     I           Indeterminate       No   \n",
       "1     Low  T1a   N0  M0     I               Excellent       No   \n",
       "2     Low  T1a   N0  M0     I               Excellent       No   \n",
       "3     Low  T1a   N0  M0     I               Excellent       No   \n",
       "4     Low  T1a   N0  M0     I               Excellent       No   \n",
       "..    ...  ...  ...  ..   ...                     ...      ...   \n",
       "378  High  T4b  N1b  M1   IVB  Biochemical Incomplete      Yes   \n",
       "379  High  T4b  N1b  M1   IVB   Structural Incomplete      Yes   \n",
       "380  High  T4b  N1b  M1   IVB   Structural Incomplete      Yes   \n",
       "381  High  T4b  N1b  M0   IVA   Structural Incomplete      Yes   \n",
       "382  High  T4b  N1b  M0   IVA   Structural Incomplete      Yes   \n",
       "\n",
       "     categorized_age  \n",
       "0                  2  \n",
       "1                  2  \n",
       "2                  2  \n",
       "3                  5  \n",
       "4                  5  \n",
       "..               ...  \n",
       "378                6  \n",
       "379                7  \n",
       "380                6  \n",
       "381                5  \n",
       "382                6  \n",
       "\n",
       "[364 rows x 18 columns]"
      ]
     },
     "execution_count": 97,
     "metadata": {},
     "output_type": "execute_result"
    }
   ],
   "source": [
    "df2"
   ]
  },
  {
   "cell_type": "code",
   "execution_count": 98,
   "metadata": {
    "colab": {
     "base_uri": "https://localhost:8080/",
     "height": 466
    },
    "id": "88WPoK_F8ST-",
    "outputId": "9e0924cd-c123-4cd0-a993-d178952d389b"
   },
   "outputs": [
    {
     "data": {
      "text/plain": [
       "<Axes: xlabel='Age'>"
      ]
     },
     "execution_count": 98,
     "metadata": {},
     "output_type": "execute_result"
    },
    {
     "data": {
      "image/png": "[encoded data removed]",
      "text/plain": [
       "<Figure size 640x480 with 1 Axes>"
      ]
     },
     "metadata": {},
     "output_type": "display_data"
    }
   ],
   "source": [
    "sns.boxplot(x='Age', data=df2)"
   ]
  },
  {
   "cell_type": "markdown",
   "metadata": {
    "id": "ZA1KJvVG8ST-"
   },
   "source": [
    "## Feature Scaling"
   ]
  },
  {
   "cell_type": "code",
   "execution_count": 100,
   "metadata": {
    "colab": {
     "base_uri": "https://localhost:8080/"
    },
    "id": "EtfEOZn58ST_",
    "outputId": "feb41c14-8b54-486f-a1e4-146f2f4cef0e"
   },
   "outputs": [
    {
     "data": {
      "text/plain": [
       "array([[-0.93178003],\n",
       "       [-0.47406352],\n",
       "       [-0.73561581],\n",
       "       [ 1.3568025 ],\n",
       "       [ 1.3568025 ],\n",
       "       [ 0.70292178],\n",
       "       [-0.01634702],\n",
       "       [ 0.31059334],\n",
       "       [ 0.63753371],\n",
       "       [-0.08173509],\n",
       "       [ 2.20684744],\n",
       "       [ 1.16063828],\n",
       "       [ 0.50675756],\n",
       "       [ 0.57214563],\n",
       "       [ 2.27223551],\n",
       "       [ 0.04904105],\n",
       "       [-0.08173509],\n",
       "       [ 0.1798172 ],\n",
       "       [ 0.11442913],\n",
       "       [ 0.70292178],\n",
       "       [-0.01634702],\n",
       "       [ 0.1798172 ],\n",
       "       [-0.34328738],\n",
       "       [ 1.87990708],\n",
       "       [ 1.22602636],\n",
       "       [-0.5394516 ],\n",
       "       [ 0.11442913],\n",
       "       [-0.9971681 ],\n",
       "       [-0.01634702],\n",
       "       [-0.27789931],\n",
       "       [-0.27789931],\n",
       "       [-0.73561581],\n",
       "       [ 0.899086  ],\n",
       "       [ 0.70292178],\n",
       "       [-0.27789931],\n",
       "       [-0.67022774],\n",
       "       [ 0.11442913],\n",
       "       [-0.47406352],\n",
       "       [ 0.24520527],\n",
       "       [-1.38949654],\n",
       "       [-0.21251124],\n",
       "       [-0.21251124],\n",
       "       [-0.5394516 ],\n",
       "       [-0.67022774],\n",
       "       [-0.67022774],\n",
       "       [-0.9971681 ],\n",
       "       [-0.80100389],\n",
       "       [ 0.11442913],\n",
       "       [-0.73561581],\n",
       "       [-1.06255618],\n",
       "       [-0.93178003],\n",
       "       [-1.06255618],\n",
       "       [-1.32410847],\n",
       "       [ 0.11442913],\n",
       "       [-1.19333232],\n",
       "       [-1.19333232],\n",
       "       [ 0.11442913],\n",
       "       [-1.12794425],\n",
       "       [-0.40867545],\n",
       "       [ 0.83369792],\n",
       "       [ 0.83369792],\n",
       "       [-1.25872039],\n",
       "       [-0.21251124],\n",
       "       [ 0.63753371],\n",
       "       [-1.25872039],\n",
       "       [-0.08173509],\n",
       "       [ 1.81451901],\n",
       "       [-0.67022774],\n",
       "       [-0.80100389],\n",
       "       [-0.73561581],\n",
       "       [-0.86639196],\n",
       "       [-1.25872039],\n",
       "       [-0.40867545],\n",
       "       [ 0.57214563],\n",
       "       [-0.93178003],\n",
       "       [-1.58566075],\n",
       "       [-0.93178003],\n",
       "       [-0.08173509],\n",
       "       [-0.5394516 ],\n",
       "       [-1.06255618],\n",
       "       [ 2.0760713 ],\n",
       "       [-0.34328738],\n",
       "       [-0.40867545],\n",
       "       [-0.67022774],\n",
       "       [-1.52027268],\n",
       "       [ 1.3568025 ],\n",
       "       [ 1.3568025 ],\n",
       "       [-0.14712316],\n",
       "       [-0.27789931],\n",
       "       [-0.9971681 ],\n",
       "       [-0.67022774],\n",
       "       [-1.12794425],\n",
       "       [ 1.02986214],\n",
       "       [-0.86639196],\n",
       "       [ 0.1798172 ],\n",
       "       [ 0.04904105],\n",
       "       [-0.93178003],\n",
       "       [ 0.63753371],\n",
       "       [-0.5394516 ],\n",
       "       [ 0.04904105],\n",
       "       [-0.9971681 ],\n",
       "       [-1.12794425],\n",
       "       [ 1.22602636],\n",
       "       [ 1.22602636],\n",
       "       [-0.67022774],\n",
       "       [ 1.61835479],\n",
       "       [ 0.1798172 ],\n",
       "       [-0.60483967],\n",
       "       [-0.9971681 ],\n",
       "       [-0.27789931],\n",
       "       [-0.5394516 ],\n",
       "       [-1.19333232],\n",
       "       [ 0.37598142],\n",
       "       [-0.86639196],\n",
       "       [-0.86639196],\n",
       "       [ 0.1798172 ],\n",
       "       [-0.67022774],\n",
       "       [-0.93178003],\n",
       "       [ 0.96447407],\n",
       "       [ 1.42219057],\n",
       "       [-1.12794425],\n",
       "       [-0.73561581],\n",
       "       [-0.67022774],\n",
       "       [-0.86639196],\n",
       "       [ 0.63753371],\n",
       "       [-1.38949654],\n",
       "       [-1.32410847],\n",
       "       [ 0.04904105],\n",
       "       [-0.86639196],\n",
       "       [-0.01634702],\n",
       "       [ 0.04904105],\n",
       "       [ 0.50675756],\n",
       "       [-0.80100389],\n",
       "       [-0.80100389],\n",
       "       [-1.06255618],\n",
       "       [-0.01634702],\n",
       "       [-0.5394516 ],\n",
       "       [-0.93178003],\n",
       "       [ 0.57214563],\n",
       "       [-1.45488461],\n",
       "       [-0.40867545],\n",
       "       [ 1.42219057],\n",
       "       [-1.12794425],\n",
       "       [-0.34328738],\n",
       "       [-0.67022774],\n",
       "       [-1.12794425],\n",
       "       [-0.5394516 ],\n",
       "       [-1.12794425],\n",
       "       [-0.86639196],\n",
       "       [-1.25872039],\n",
       "       [-0.93178003],\n",
       "       [-0.86639196],\n",
       "       [-0.80100389],\n",
       "       [-0.08173509],\n",
       "       [ 0.899086  ],\n",
       "       [-0.08173509],\n",
       "       [-0.21251124],\n",
       "       [-1.32410847],\n",
       "       [-0.67022774],\n",
       "       [-0.73561581],\n",
       "       [ 0.57214563],\n",
       "       [-0.47406352],\n",
       "       [ 0.24520527],\n",
       "       [ 0.70292178],\n",
       "       [ 1.68374286],\n",
       "       [ 2.01068323],\n",
       "       [ 0.24520527],\n",
       "       [ 0.24520527],\n",
       "       [ 1.68374286],\n",
       "       [ 0.96447407],\n",
       "       [-0.73561581],\n",
       "       [ 0.57214563],\n",
       "       [-0.40867545],\n",
       "       [-1.19333232],\n",
       "       [ 0.1798172 ],\n",
       "       [-1.19333232],\n",
       "       [-0.9971681 ],\n",
       "       [ 1.29141443],\n",
       "       [-0.67022774],\n",
       "       [ 1.74913094],\n",
       "       [ 1.02986214],\n",
       "       [-0.93178003],\n",
       "       [-1.06255618],\n",
       "       [-1.38949654],\n",
       "       [-0.5394516 ],\n",
       "       [-0.34328738],\n",
       "       [-0.34328738],\n",
       "       [-0.08173509],\n",
       "       [-1.58566075],\n",
       "       [-1.12794425],\n",
       "       [-0.21251124],\n",
       "       [-0.86639196],\n",
       "       [-0.34328738],\n",
       "       [ 0.57214563],\n",
       "       [ 0.63753371],\n",
       "       [ 0.899086  ],\n",
       "       [-0.67022774],\n",
       "       [-0.5394516 ],\n",
       "       [-0.86639196],\n",
       "       [ 0.44136949],\n",
       "       [-0.08173509],\n",
       "       [-0.80100389],\n",
       "       [-1.38949654],\n",
       "       [-0.40867545],\n",
       "       [ 0.96447407],\n",
       "       [-1.38949654],\n",
       "       [ 1.3568025 ],\n",
       "       [-1.58566075],\n",
       "       [-1.32410847],\n",
       "       [-1.38949654],\n",
       "       [-0.08173509],\n",
       "       [-0.21251124],\n",
       "       [-1.32410847],\n",
       "       [-0.67022774],\n",
       "       [-0.47406352],\n",
       "       [ 1.22602636],\n",
       "       [ 1.22602636],\n",
       "       [ 1.3568025 ],\n",
       "       [-0.34328738],\n",
       "       [-0.80100389],\n",
       "       [-0.5394516 ],\n",
       "       [ 2.20684744],\n",
       "       [ 1.3568025 ],\n",
       "       [ 0.96447407],\n",
       "       [ 0.70292178],\n",
       "       [-0.40867545],\n",
       "       [-0.47406352],\n",
       "       [-0.60483967],\n",
       "       [-0.93178003],\n",
       "       [ 0.70292178],\n",
       "       [ 0.31059334],\n",
       "       [-0.73561581],\n",
       "       [-0.60483967],\n",
       "       [-1.06255618],\n",
       "       [-0.21251124],\n",
       "       [-0.67022774],\n",
       "       [-0.27789931],\n",
       "       [-1.32410847],\n",
       "       [-0.47406352],\n",
       "       [-0.73561581],\n",
       "       [ 0.44136949],\n",
       "       [-0.67022774],\n",
       "       [ 0.70292178],\n",
       "       [-0.21251124],\n",
       "       [-0.01634702],\n",
       "       [-0.01634702],\n",
       "       [ 1.87990708],\n",
       "       [-1.45488461],\n",
       "       [-0.01634702],\n",
       "       [-0.60483967],\n",
       "       [-0.40867545],\n",
       "       [-0.14712316],\n",
       "       [ 0.24520527],\n",
       "       [ 0.31059334],\n",
       "       [ 0.24520527],\n",
       "       [-0.86639196],\n",
       "       [-0.67022774],\n",
       "       [ 2.59917588],\n",
       "       [-0.01634702],\n",
       "       [ 0.96447407],\n",
       "       [ 0.37598142],\n",
       "       [-0.27789931],\n",
       "       [-0.60483967],\n",
       "       [ 0.76830985],\n",
       "       [-0.73561581],\n",
       "       [-0.47406352],\n",
       "       [ 1.3568025 ],\n",
       "       [ 1.09525021],\n",
       "       [ 0.899086  ],\n",
       "       [-1.32410847],\n",
       "       [-0.93178003],\n",
       "       [ 0.31059334],\n",
       "       [ 0.1798172 ],\n",
       "       [-0.80100389],\n",
       "       [-0.9971681 ],\n",
       "       [ 0.04904105],\n",
       "       [ 0.96447407],\n",
       "       [ 0.63753371],\n",
       "       [ 1.29141443],\n",
       "       [ 0.04904105],\n",
       "       [-0.47406352],\n",
       "       [ 1.68374286],\n",
       "       [ 1.42219057],\n",
       "       [ 1.68374286],\n",
       "       [ 2.0760713 ],\n",
       "       [-0.9971681 ],\n",
       "       [-0.73561581],\n",
       "       [-0.34328738],\n",
       "       [-0.67022774],\n",
       "       [-0.08173509],\n",
       "       [ 0.50675756],\n",
       "       [-0.21251124],\n",
       "       [-0.93178003],\n",
       "       [-0.93178003],\n",
       "       [-0.5394516 ],\n",
       "       [-0.60483967],\n",
       "       [-0.80100389],\n",
       "       [-0.27789931],\n",
       "       [ 0.44136949],\n",
       "       [-0.73561581],\n",
       "       [-0.5394516 ],\n",
       "       [ 2.5337878 ],\n",
       "       [ 1.3568025 ],\n",
       "       [ 1.42219057],\n",
       "       [ 1.22602636],\n",
       "       [ 2.46839973],\n",
       "       [ 1.55296672],\n",
       "       [-0.40867545],\n",
       "       [ 1.09525021],\n",
       "       [-0.47406352],\n",
       "       [ 0.96447407],\n",
       "       [ 0.70292178],\n",
       "       [ 0.63753371],\n",
       "       [-0.67022774],\n",
       "       [ 0.1798172 ],\n",
       "       [-1.7164369 ],\n",
       "       [-0.80100389],\n",
       "       [ 0.76830985],\n",
       "       [ 0.24520527],\n",
       "       [-0.21251124],\n",
       "       [ 0.44136949],\n",
       "       [ 0.04904105],\n",
       "       [-1.19333232],\n",
       "       [-1.25872039],\n",
       "       [ 0.1798172 ],\n",
       "       [-0.67022774],\n",
       "       [-1.06255618],\n",
       "       [-0.60483967],\n",
       "       [ 2.66456395],\n",
       "       [ 1.09525021],\n",
       "       [ 1.74913094],\n",
       "       [-0.27789931],\n",
       "       [ 1.16063828],\n",
       "       [-1.32410847],\n",
       "       [ 2.0760713 ],\n",
       "       [-0.40867545],\n",
       "       [-0.60483967],\n",
       "       [ 0.83369792],\n",
       "       [-0.9971681 ],\n",
       "       [ 0.76830985],\n",
       "       [-0.40867545],\n",
       "       [ 0.50675756],\n",
       "       [-0.47406352],\n",
       "       [ 2.5337878 ],\n",
       "       [ 1.68374286],\n",
       "       [ 1.74913094],\n",
       "       [ 1.94529515],\n",
       "       [ 1.48757865],\n",
       "       [ 2.5337878 ],\n",
       "       [ 0.96447407],\n",
       "       [ 1.94529515],\n",
       "       [ 2.40301166],\n",
       "       [ 0.63753371],\n",
       "       [ 1.68374286],\n",
       "       [-0.67022774],\n",
       "       [ 1.3568025 ],\n",
       "       [ 1.16063828],\n",
       "       [-0.08173509],\n",
       "       [ 0.31059334],\n",
       "       [ 2.01068323],\n",
       "       [ 2.59917588],\n",
       "       [ 2.01068323],\n",
       "       [ 1.29141443],\n",
       "       [ 1.68374286]])"
      ]
     },
     "execution_count": 100,
     "metadata": {},
     "output_type": "execute_result"
    }
   ],
   "source": [
    "# using a standard scaler on the numerical column (age) before I encode the categorical columns\n",
    "from sklearn.preprocessing import StandardScaler\n",
    "\n",
    "Standard_Scaler = StandardScaler()\n",
    "scaled_age = Standard_Scaler.fit_transform(df2[['Age']])\n",
    "scaled_age"
   ]
  },
  {
   "cell_type": "markdown",
   "metadata": {
    "id": "ij8bBMOB8ST_"
   },
   "source": [
    "The idea of scaling age is to reduce dominance of large values; Age varies greatly across individuals, and large age values can dominate the model, leading to poor performance on smaller age values"
   ]
  },
  {
   "cell_type": "code",
   "execution_count": 102,
   "metadata": {
    "colab": {
     "base_uri": "https://localhost:8080/",
     "height": 447
    },
    "id": "z8HGr0_n8ST_",
    "outputId": "c6dc5af3-6a1e-4bc7-b0d6-46d96620396f"
   },
   "outputs": [
    {
     "data": {
      "text/plain": [
       "<Axes: >"
      ]
     },
     "execution_count": 102,
     "metadata": {},
     "output_type": "execute_result"
    },
    {
     "data": {
      "image/png": "[encoded data removed]",
      "text/plain": [
       "<Figure size 640x480 with 1 Axes>"
      ]
     },
     "metadata": {},
     "output_type": "display_data"
    }
   ],
   "source": [
    "sns.boxplot(x=scaled_age.flatten())"
   ]
  },
  {
   "cell_type": "code",
   "execution_count": 103,
   "metadata": {
    "id": "pjkOq3yE8SUA"
   },
   "outputs": [],
   "source": [
    "df3 = df2.copy()"
   ]
  },
  {
   "cell_type": "code",
   "execution_count": 104,
   "metadata": {
    "id": "IzSqtNhY8SUH"
   },
   "outputs": [],
   "source": [
    "df3['scaled_age'] = scaled_age"
   ]
  },
  {
   "cell_type": "code",
   "execution_count": 105,
   "metadata": {
    "id": "yiGD6cbe8SUI"
   },
   "outputs": [],
   "source": [
    "df3.drop(columns=['Age'], inplace=True)"
   ]
  },
  {
   "cell_type": "markdown",
   "metadata": {
    "id": "XkVOw2Pb8SUI"
   },
   "source": [
    "## Splitting the datasets into train and test set"
   ]
  },
  {
   "cell_type": "code",
   "execution_count": 107,
   "metadata": {
    "colab": {
     "base_uri": "https://localhost:8080/"
    },
    "id": "jumDzL1F8SUJ",
    "outputId": "46101b14-9554-4752-9e6c-be5d4782f8a1"
   },
   "outputs": [
    {
     "name": "stdout",
     "output_type": "stream",
     "text": [
      "(364, 17)\n",
      "(364,)\n"
     ]
    }
   ],
   "source": [
    "X = df3.drop(columns=['Recurred'])\n",
    "y = df3['Recurred']\n",
    "\n",
    "print(X.shape)\n",
    "print(y.shape)"
   ]
  },
  {
   "cell_type": "code",
   "execution_count": 108,
   "metadata": {
    "id": "-nzuYjGa8SUJ"
   },
   "outputs": [],
   "source": [
    "# splitting our dataset\n",
    "from sklearn.model_selection import train_test_split\n",
    "\n",
    "X_train, X_test, y_train, y_test = train_test_split(X,y, test_size=0.2, stratify=y, random_state=42)"
   ]
  },
  {
   "cell_type": "code",
   "execution_count": 109,
   "metadata": {
    "colab": {
     "base_uri": "https://localhost:8080/",
     "height": 330
    },
    "id": "xGI5U4F68SUK",
    "outputId": "21a1a26d-3f2b-4d04-8ffe-f3de5f2d34c2",
    "scrolled": true
   },
   "outputs": [
    {
     "data": {
      "text/html": [
       "<div>\n",
       "<style scoped>\n",
       "    .dataframe tbody tr th:only-of-type {\n",
       "        vertical-align: middle;\n",
       "    }\n",
       "\n",
       "    .dataframe tbody tr th {\n",
       "        vertical-align: top;\n",
       "    }\n",
       "\n",
       "    .dataframe thead th {\n",
       "        text-align: right;\n",
       "    }\n",
       "</style>\n",
       "<table border=\"1\" class=\"dataframe\">\n",
       "  <thead>\n",
       "    <tr style=\"text-align: right;\">\n",
       "      <th></th>\n",
       "      <th>Gender</th>\n",
       "      <th>Smoking</th>\n",
       "      <th>Hx Smoking</th>\n",
       "      <th>Hx Radiothreapy</th>\n",
       "      <th>Thyroid Function</th>\n",
       "      <th>Physical Examination</th>\n",
       "      <th>Adenopathy</th>\n",
       "      <th>Pathology</th>\n",
       "      <th>Focality</th>\n",
       "      <th>Risk</th>\n",
       "      <th>T</th>\n",
       "      <th>N</th>\n",
       "      <th>M</th>\n",
       "      <th>Stage</th>\n",
       "      <th>Response</th>\n",
       "      <th>categorized_age</th>\n",
       "      <th>scaled_age</th>\n",
       "    </tr>\n",
       "  </thead>\n",
       "  <tbody>\n",
       "    <tr>\n",
       "      <th>0</th>\n",
       "      <td>F</td>\n",
       "      <td>No</td>\n",
       "      <td>No</td>\n",
       "      <td>No</td>\n",
       "      <td>Euthyroid</td>\n",
       "      <td>Single nodular goiter-left</td>\n",
       "      <td>No</td>\n",
       "      <td>Micropapillary</td>\n",
       "      <td>Uni-Focal</td>\n",
       "      <td>Low</td>\n",
       "      <td>T1a</td>\n",
       "      <td>N0</td>\n",
       "      <td>M0</td>\n",
       "      <td>I</td>\n",
       "      <td>Indeterminate</td>\n",
       "      <td>2</td>\n",
       "      <td>-0.931780</td>\n",
       "    </tr>\n",
       "    <tr>\n",
       "      <th>1</th>\n",
       "      <td>F</td>\n",
       "      <td>No</td>\n",
       "      <td>Yes</td>\n",
       "      <td>No</td>\n",
       "      <td>Euthyroid</td>\n",
       "      <td>Multinodular goiter</td>\n",
       "      <td>No</td>\n",
       "      <td>Micropapillary</td>\n",
       "      <td>Uni-Focal</td>\n",
       "      <td>Low</td>\n",
       "      <td>T1a</td>\n",
       "      <td>N0</td>\n",
       "      <td>M0</td>\n",
       "      <td>I</td>\n",
       "      <td>Excellent</td>\n",
       "      <td>2</td>\n",
       "      <td>-0.474064</td>\n",
       "    </tr>\n",
       "    <tr>\n",
       "      <th>2</th>\n",
       "      <td>F</td>\n",
       "      <td>No</td>\n",
       "      <td>No</td>\n",
       "      <td>No</td>\n",
       "      <td>Euthyroid</td>\n",
       "      <td>Single nodular goiter-right</td>\n",
       "      <td>No</td>\n",
       "      <td>Micropapillary</td>\n",
       "      <td>Uni-Focal</td>\n",
       "      <td>Low</td>\n",
       "      <td>T1a</td>\n",
       "      <td>N0</td>\n",
       "      <td>M0</td>\n",
       "      <td>I</td>\n",
       "      <td>Excellent</td>\n",
       "      <td>2</td>\n",
       "      <td>-0.735616</td>\n",
       "    </tr>\n",
       "    <tr>\n",
       "      <th>3</th>\n",
       "      <td>F</td>\n",
       "      <td>No</td>\n",
       "      <td>No</td>\n",
       "      <td>No</td>\n",
       "      <td>Euthyroid</td>\n",
       "      <td>Single nodular goiter-right</td>\n",
       "      <td>No</td>\n",
       "      <td>Micropapillary</td>\n",
       "      <td>Uni-Focal</td>\n",
       "      <td>Low</td>\n",
       "      <td>T1a</td>\n",
       "      <td>N0</td>\n",
       "      <td>M0</td>\n",
       "      <td>I</td>\n",
       "      <td>Excellent</td>\n",
       "      <td>5</td>\n",
       "      <td>1.356803</td>\n",
       "    </tr>\n",
       "    <tr>\n",
       "      <th>4</th>\n",
       "      <td>F</td>\n",
       "      <td>No</td>\n",
       "      <td>No</td>\n",
       "      <td>No</td>\n",
       "      <td>Euthyroid</td>\n",
       "      <td>Multinodular goiter</td>\n",
       "      <td>No</td>\n",
       "      <td>Micropapillary</td>\n",
       "      <td>Multi-Focal</td>\n",
       "      <td>Low</td>\n",
       "      <td>T1a</td>\n",
       "      <td>N0</td>\n",
       "      <td>M0</td>\n",
       "      <td>I</td>\n",
       "      <td>Excellent</td>\n",
       "      <td>5</td>\n",
       "      <td>1.356803</td>\n",
       "    </tr>\n",
       "  </tbody>\n",
       "</table>\n",
       "</div>"
      ],
      "text/plain": [
       "  Gender Smoking Hx Smoking Hx Radiothreapy Thyroid Function  \\\n",
       "0      F      No         No              No        Euthyroid   \n",
       "1      F      No        Yes              No        Euthyroid   \n",
       "2      F      No         No              No        Euthyroid   \n",
       "3      F      No         No              No        Euthyroid   \n",
       "4      F      No         No              No        Euthyroid   \n",
       "\n",
       "          Physical Examination Adenopathy       Pathology     Focality Risk  \\\n",
       "0   Single nodular goiter-left         No  Micropapillary    Uni-Focal  Low   \n",
       "1          Multinodular goiter         No  Micropapillary    Uni-Focal  Low   \n",
       "2  Single nodular goiter-right         No  Micropapillary    Uni-Focal  Low   \n",
       "3  Single nodular goiter-right         No  Micropapillary    Uni-Focal  Low   \n",
       "4          Multinodular goiter         No  Micropapillary  Multi-Focal  Low   \n",
       "\n",
       "     T   N   M Stage       Response  categorized_age  scaled_age  \n",
       "0  T1a  N0  M0     I  Indeterminate                2   -0.931780  \n",
       "1  T1a  N0  M0     I      Excellent                2   -0.474064  \n",
       "2  T1a  N0  M0     I      Excellent                2   -0.735616  \n",
       "3  T1a  N0  M0     I      Excellent                5    1.356803  \n",
       "4  T1a  N0  M0     I      Excellent                5    1.356803  "
      ]
     },
     "execution_count": 109,
     "metadata": {},
     "output_type": "execute_result"
    }
   ],
   "source": [
    "X.head()"
   ]
  },
  {
   "cell_type": "code",
   "execution_count": 110,
   "metadata": {
    "colab": {
     "base_uri": "https://localhost:8080/",
     "height": 241
    },
    "id": "hWYzxk278SUL",
    "outputId": "88a717d1-2794-4f41-e9e6-fe91310eff3c"
   },
   "outputs": [
    {
     "data": {
      "text/plain": [
       "0    No\n",
       "1    No\n",
       "2    No\n",
       "3    No\n",
       "4    No\n",
       "Name: Recurred, dtype: object"
      ]
     },
     "execution_count": 110,
     "metadata": {},
     "output_type": "execute_result"
    }
   ],
   "source": [
    "y.head()"
   ]
  },
  {
   "cell_type": "markdown",
   "metadata": {
    "id": "XaIDHnlB8SUL"
   },
   "source": [
    "# Encoding the categorical values"
   ]
  },
  {
   "cell_type": "code",
   "execution_count": 112,
   "metadata": {
    "id": "fNmtIY8o8SUL"
   },
   "outputs": [],
   "source": [
    "from sklearn.preprocessing import LabelEncoder, OneHotEncoder"
   ]
  },
  {
   "cell_type": "code",
   "execution_count": 118,
   "metadata": {
    "id": "Me6z3X6R8SUM"
   },
   "outputs": [],
   "source": [
    "encoder = LabelEncoder()\n",
    "\n",
    "y_train = encoder.fit_transform(y_train)\n",
    "y_test = encoder.transform(y_test)\n",
    "\n",
    "object_columns = X_train.select_dtypes(include=['object']).columns\n",
    "for column in object_columns:\n",
    "    X_train[column] = encoder.fit_transform(X_train[column]) #encoder to convert categorical data to numeric value\n",
    "\n",
    "object_columns = X_test.select_dtypes(include=['object']).columns\n",
    "for column in object_columns:\n",
    "    X_test[column] = encoder.fit_transform(X_test[column])  #encoder to convert categorical data to numeric value"
   ]
  },
  {
   "cell_type": "code",
   "execution_count": 120,
   "metadata": {
    "colab": {
     "base_uri": "https://localhost:8080/",
     "height": 244
    },
    "id": "OuX4atilFvQY",
    "outputId": "722e6d78-ba25-442a-d8a5-433ee37ad457"
   },
   "outputs": [
    {
     "data": {
      "text/html": [
       "<div>\n",
       "<style scoped>\n",
       "    .dataframe tbody tr th:only-of-type {\n",
       "        vertical-align: middle;\n",
       "    }\n",
       "\n",
       "    .dataframe tbody tr th {\n",
       "        vertical-align: top;\n",
       "    }\n",
       "\n",
       "    .dataframe thead th {\n",
       "        text-align: right;\n",
       "    }\n",
       "</style>\n",
       "<table border=\"1\" class=\"dataframe\">\n",
       "  <thead>\n",
       "    <tr style=\"text-align: right;\">\n",
       "      <th></th>\n",
       "      <th>Gender</th>\n",
       "      <th>Smoking</th>\n",
       "      <th>Hx Smoking</th>\n",
       "      <th>Hx Radiothreapy</th>\n",
       "      <th>Thyroid Function</th>\n",
       "      <th>Physical Examination</th>\n",
       "      <th>Adenopathy</th>\n",
       "      <th>Pathology</th>\n",
       "      <th>Focality</th>\n",
       "      <th>Risk</th>\n",
       "      <th>T</th>\n",
       "      <th>N</th>\n",
       "      <th>M</th>\n",
       "      <th>Stage</th>\n",
       "      <th>Response</th>\n",
       "      <th>categorized_age</th>\n",
       "      <th>scaled_age</th>\n",
       "    </tr>\n",
       "  </thead>\n",
       "  <tbody>\n",
       "    <tr>\n",
       "      <th>351</th>\n",
       "      <td>1</td>\n",
       "      <td>1</td>\n",
       "      <td>1</td>\n",
       "      <td>0</td>\n",
       "      <td>1</td>\n",
       "      <td>1</td>\n",
       "      <td>3</td>\n",
       "      <td>1</td>\n",
       "      <td>0</td>\n",
       "      <td>1</td>\n",
       "      <td>4</td>\n",
       "      <td>0</td>\n",
       "      <td>0</td>\n",
       "      <td>0</td>\n",
       "      <td>3</td>\n",
       "      <td>5</td>\n",
       "      <td>1.160638</td>\n",
       "    </tr>\n",
       "    <tr>\n",
       "      <th>320</th>\n",
       "      <td>0</td>\n",
       "      <td>1</td>\n",
       "      <td>0</td>\n",
       "      <td>0</td>\n",
       "      <td>2</td>\n",
       "      <td>4</td>\n",
       "      <td>5</td>\n",
       "      <td>3</td>\n",
       "      <td>0</td>\n",
       "      <td>1</td>\n",
       "      <td>3</td>\n",
       "      <td>2</td>\n",
       "      <td>0</td>\n",
       "      <td>1</td>\n",
       "      <td>3</td>\n",
       "      <td>7</td>\n",
       "      <td>2.533788</td>\n",
       "    </tr>\n",
       "    <tr>\n",
       "      <th>109</th>\n",
       "      <td>0</td>\n",
       "      <td>0</td>\n",
       "      <td>0</td>\n",
       "      <td>0</td>\n",
       "      <td>2</td>\n",
       "      <td>4</td>\n",
       "      <td>3</td>\n",
       "      <td>3</td>\n",
       "      <td>1</td>\n",
       "      <td>2</td>\n",
       "      <td>2</td>\n",
       "      <td>0</td>\n",
       "      <td>0</td>\n",
       "      <td>0</td>\n",
       "      <td>0</td>\n",
       "      <td>5</td>\n",
       "      <td>1.226026</td>\n",
       "    </tr>\n",
       "    <tr>\n",
       "      <th>49</th>\n",
       "      <td>0</td>\n",
       "      <td>0</td>\n",
       "      <td>0</td>\n",
       "      <td>0</td>\n",
       "      <td>2</td>\n",
       "      <td>1</td>\n",
       "      <td>3</td>\n",
       "      <td>0</td>\n",
       "      <td>1</td>\n",
       "      <td>2</td>\n",
       "      <td>1</td>\n",
       "      <td>0</td>\n",
       "      <td>0</td>\n",
       "      <td>0</td>\n",
       "      <td>1</td>\n",
       "      <td>2</td>\n",
       "      <td>-0.801004</td>\n",
       "    </tr>\n",
       "    <tr>\n",
       "      <th>245</th>\n",
       "      <td>0</td>\n",
       "      <td>0</td>\n",
       "      <td>0</td>\n",
       "      <td>0</td>\n",
       "      <td>2</td>\n",
       "      <td>1</td>\n",
       "      <td>0</td>\n",
       "      <td>3</td>\n",
       "      <td>1</td>\n",
       "      <td>1</td>\n",
       "      <td>3</td>\n",
       "      <td>2</td>\n",
       "      <td>0</td>\n",
       "      <td>0</td>\n",
       "      <td>2</td>\n",
       "      <td>2</td>\n",
       "      <td>-0.474064</td>\n",
       "    </tr>\n",
       "  </tbody>\n",
       "</table>\n",
       "</div>"
      ],
      "text/plain": [
       "     Gender  Smoking  Hx Smoking  Hx Radiothreapy  Thyroid Function  \\\n",
       "351       1        1           1                0                 1   \n",
       "320       0        1           0                0                 2   \n",
       "109       0        0           0                0                 2   \n",
       "49        0        0           0                0                 2   \n",
       "245       0        0           0                0                 2   \n",
       "\n",
       "     Physical Examination  Adenopathy  Pathology  Focality  Risk  T  N  M  \\\n",
       "351                     1           3          1         0     1  4  0  0   \n",
       "320                     4           5          3         0     1  3  2  0   \n",
       "109                     4           3          3         1     2  2  0  0   \n",
       "49                      1           3          0         1     2  1  0  0   \n",
       "245                     1           0          3         1     1  3  2  0   \n",
       "\n",
       "     Stage  Response  categorized_age  scaled_age  \n",
       "351      0         3                5    1.160638  \n",
       "320      1         3                7    2.533788  \n",
       "109      0         0                5    1.226026  \n",
       "49       0         1                2   -0.801004  \n",
       "245      0         2                2   -0.474064  "
      ]
     },
     "execution_count": 120,
     "metadata": {},
     "output_type": "execute_result"
    }
   ],
   "source": [
    "X_train.head()"
   ]
  },
  {
   "cell_type": "code",
   "execution_count": 121,
   "metadata": {
    "colab": {
     "base_uri": "https://localhost:8080/"
    },
    "id": "VLPSRWdLJJgY",
    "outputId": "e1d12b3f-0071-4dcb-dbe0-73b3b76321ff"
   },
   "outputs": [
    {
     "data": {
      "text/plain": [
       "(291, 17)"
      ]
     },
     "execution_count": 121,
     "metadata": {},
     "output_type": "execute_result"
    }
   ],
   "source": [
    "X_train.shape"
   ]
  },
  {
   "cell_type": "code",
   "execution_count": 122,
   "metadata": {
    "colab": {
     "base_uri": "https://localhost:8080/"
    },
    "id": "0KRhOMbnJWdh",
    "outputId": "6eb85521-68b6-406f-8f36-687fe28733c5"
   },
   "outputs": [
    {
     "data": {
      "text/plain": [
       "(291,)"
      ]
     },
     "execution_count": 122,
     "metadata": {},
     "output_type": "execute_result"
    }
   ],
   "source": [
    "y_train.shape"
   ]
  },
  {
   "cell_type": "markdown",
   "metadata": {
    "id": "-9FKiSBQKlKt"
   },
   "source": [
    "## Feature Importance"
   ]
  },
  {
   "cell_type": "markdown",
   "metadata": {
    "id": "XDNKwTdCKwdu"
   },
   "source": [
    "Identifying the most important features for predicting the target variable (Recurred) in my dataset using Feature Importance and Permutation Importance."
   ]
  },
  {
   "cell_type": "code",
   "execution_count": 126,
   "metadata": {
    "id": "xCK_uVAcM3aq"
   },
   "outputs": [
    {
     "ename": "ModuleNotFoundError",
     "evalue": "No module named 'xgboost'",
     "output_type": "error",
     "traceback": [
      "\u001b[1;31m---------------------------------------------------------------------------\u001b[0m",
      "\u001b[1;31mModuleNotFoundError\u001b[0m                       Traceback (most recent call last)",
      "Cell \u001b[1;32mIn[126], line 9\u001b[0m\n\u001b[0;32m      7\u001b[0m \u001b[38;5;28;01mfrom\u001b[39;00m \u001b[38;5;21;01msklearn\u001b[39;00m\u001b[38;5;21;01m.\u001b[39;00m\u001b[38;5;21;01mnaive_bayes\u001b[39;00m \u001b[38;5;28;01mimport\u001b[39;00m GaussianNB\n\u001b[0;32m      8\u001b[0m \u001b[38;5;28;01mfrom\u001b[39;00m \u001b[38;5;21;01msklearn\u001b[39;00m\u001b[38;5;21;01m.\u001b[39;00m\u001b[38;5;21;01mensemble\u001b[39;00m \u001b[38;5;28;01mimport\u001b[39;00m AdaBoostClassifier, GradientBoostingClassifier\n\u001b[1;32m----> 9\u001b[0m \u001b[38;5;28;01mfrom\u001b[39;00m \u001b[38;5;21;01mxgboost\u001b[39;00m \u001b[38;5;28;01mimport\u001b[39;00m XGBClassifier\n\u001b[0;32m     10\u001b[0m \u001b[38;5;28;01mfrom\u001b[39;00m \u001b[38;5;21;01mcatboost\u001b[39;00m \u001b[38;5;28;01mimport\u001b[39;00m CatBoostClassifier\n",
      "\u001b[1;31mModuleNotFoundError\u001b[0m: No module named 'xgboost'"
     ]
    }
   ],
   "source": [
    "from sklearn.ensemble import RandomForestClassifier\n",
    "from sklearn.tree import DecisionTreeClassifier\n",
    "from sklearn.ensemble import RandomForestClassifier\n",
    "from sklearn.neighbors import KNeighborsClassifier\n",
    "from sklearn.linear_model import LogisticRegression\n",
    "from sklearn.svm import SVC\n",
    "from sklearn.naive_bayes import GaussianNB\n",
    "from sklearn.ensemble import AdaBoostClassifier, GradientBoostingClassifier\n",
    "from xgboost import XGBClassifier\n",
    "from catboost import CatBoostClassifier"
   ]
  },
  {
   "cell_type": "code",
   "execution_count": 128,
   "metadata": {
    "colab": {
     "base_uri": "https://localhost:8080/",
     "height": 617
    },
    "id": "jlPudQW8NAE5",
    "outputId": "674ba9c7-5e39-447e-89c6-f0176fd7ed64"
   },
   "outputs": [
    {
     "data": {
      "text/plain": [
       "Response                0.364520\n",
       "Risk                    0.164375\n",
       "N                       0.103357\n",
       "T                       0.077289\n",
       "Adenopathy              0.056030\n",
       "scaled_age              0.054135\n",
       "Stage                   0.040231\n",
       "categorized_age         0.027488\n",
       "Physical Examination    0.021620\n",
       "Focality                0.019297\n",
       "Thyroid Function        0.018345\n",
       "Gender                  0.016252\n",
       "Smoking                 0.013941\n",
       "M                       0.011010\n",
       "Pathology               0.009592\n",
       "Hx Smoking              0.002012\n",
       "Hx Radiothreapy         0.000507\n",
       "dtype: float64"
      ]
     },
     "execution_count": 128,
     "metadata": {},
     "output_type": "execute_result"
    }
   ],
   "source": [
    "rf_model = RandomForestClassifier(n_estimators=100, random_state=42)\n",
    "\n",
    "# fit the model to the training set\n",
    "rf_model.fit(X_train, y_train)\n",
    "\n",
    "# view the feature scores\n",
    "feature_scores = pd.Series(rf_model.feature_importances_, index=X_train.columns).sort_values(ascending=False)\n",
    "\n",
    "feature_scores"
   ]
  },
  {
   "cell_type": "code",
   "execution_count": 130,
   "metadata": {
    "colab": {
     "base_uri": "https://localhost:8080/",
     "height": 564
    },
    "id": "dSnWiyoZQwRB",
    "outputId": "85203219-0ab0-4b42-895e-c025a3b0caf0"
   },
   "outputs": [
    {
     "data": {
      "image/png": "[encoded data removed]",
      "text/plain": [
       "<Figure size 1000x600 with 1 Axes>"
      ]
     },
     "metadata": {},
     "output_type": "display_data"
    }
   ],
   "source": [
    "plt.figure(figsize=(10, 6))\n",
    "sns.barplot(x=feature_scores.values, y=feature_scores.index, palette=\"plasma\")\n",
    "plt.xlabel('Feature Importance Score')\n",
    "plt.ylabel('Features')\n",
    "plt.title('Feature Importance Scores')\n",
    "plt.show()"
   ]
  },
  {
   "cell_type": "markdown",
   "metadata": {
    "id": "P6hPHOsXRjYt"
   },
   "source": [
    "Response is the most important feature, by far, for predicting the recurrence of thyroid cancer."
   ]
  },
  {
   "cell_type": "markdown",
   "metadata": {
    "id": "EoT1IkBgLbtL"
   },
   "source": [
    "## **Handling Imbalance Problems**"
   ]
  },
  {
   "cell_type": "code",
   "execution_count": 132,
   "metadata": {
    "colab": {
     "base_uri": "https://localhost:8080/"
    },
    "id": "9j4BuAp5Lp2_",
    "outputId": "ac92c7db-3c6f-447b-c35f-49eb6a3ef15a"
   },
   "outputs": [
    {
     "data": {
      "text/plain": [
       "(291,)"
      ]
     },
     "execution_count": 132,
     "metadata": {},
     "output_type": "execute_result"
    }
   ],
   "source": [
    "y_train.shape"
   ]
  },
  {
   "cell_type": "code",
   "execution_count": 134,
   "metadata": {
    "colab": {
     "base_uri": "https://localhost:8080/",
     "height": 147
    },
    "id": "MAAfryapL4Nz",
    "outputId": "c2487e8a-2978-47b5-ff44-2e966812e86e"
   },
   "outputs": [
    {
     "data": {
      "text/plain": [
       "0    205\n",
       "1     86\n",
       "Name: count, dtype: int64"
      ]
     },
     "execution_count": 134,
     "metadata": {},
     "output_type": "execute_result"
    }
   ],
   "source": [
    "pd.Series(y_train).value_counts()"
   ]
  },
  {
   "cell_type": "markdown",
   "metadata": {
    "id": "JmR_mMjMYj9K"
   },
   "source": [
    "There is a noticeable class imbalance in my y_train data. The majority class (represented by 'No Recurrence', encoded as 0) has 205 instances, while the minority class (represented by 'Recurrence', encoded as 1) has only 86 instances. This means my dataset has about 70% of the majority class and 30% of the minority class."
   ]
  },
  {
   "cell_type": "code",
   "execution_count": 136,
   "metadata": {
    "id": "hGuUnT65NNZs"
   },
   "outputs": [],
   "source": [
    "from imblearn.over_sampling import SMOTE"
   ]
  },
  {
   "cell_type": "code",
   "execution_count": 138,
   "metadata": {
    "colab": {
     "base_uri": "https://localhost:8080/"
    },
    "id": "Ll9KNhFJOOgC",
    "outputId": "5aef9962-c2a7-43dd-ed55-e4097973c543"
   },
   "outputs": [
    {
     "name": "stdout",
     "output_type": "stream",
     "text": [
      "(291,) (410,)\n"
     ]
    }
   ],
   "source": [
    "smote = SMOTE(random_state=42)\n",
    "X_sampled, y_sampled = smote.fit_resample(X_train, y_train)\n",
    "\n",
    "print(y_train.shape, y_sampled.shape)"
   ]
  },
  {
   "cell_type": "code",
   "execution_count": 140,
   "metadata": {
    "colab": {
     "base_uri": "https://localhost:8080/",
     "height": 147
    },
    "id": "ufac7ZSrY-O7",
    "outputId": "9150ba4f-b50e-49bc-a792-0da518720a3b"
   },
   "outputs": [
    {
     "data": {
      "text/plain": [
       "1    205\n",
       "0    205\n",
       "Name: count, dtype: int64"
      ]
     },
     "execution_count": 140,
     "metadata": {},
     "output_type": "execute_result"
    }
   ],
   "source": [
    "pd.Series(y_sampled).value_counts()"
   ]
  },
  {
   "cell_type": "markdown",
   "metadata": {
    "id": "ZW2xZOvdZffi"
   },
   "source": [
    "## Modelling"
   ]
  },
  {
   "cell_type": "code",
   "execution_count": 148,
   "metadata": {
    "id": "r9AWd5vU8SUM",
    "scrolled": true
   },
   "outputs": [],
   "source": [
    "#instantiate classification models\n",
    "models = {\n",
    "    'Decision Tree': DecisionTreeClassifier(),\n",
    "    'Random Forest': RandomForestClassifier(),\n",
    "    'K-Nearest Neighbors': KNeighborsClassifier(),\n",
    "    'Logistic Regression': LogisticRegression(),\n",
    "    'Support Vector Machine': SVC(),\n",
    "    'Gaussian Naive Bayes': GaussianNB(),\n",
    "    'AdaBoost': AdaBoostClassifier(),\n",
    "    'Gradient Boosting': GradientBoostingClassifier(),\n",
    "}\n"
   ]
  },
  {
   "cell_type": "code",
   "execution_count": 150,
   "metadata": {
    "id": "gBgBhQjkaP30"
   },
   "outputs": [],
   "source": [
    "#Evaluation metrics\n",
    "\n",
    "from sklearn.metrics import classification_report, confusion_matrix"
   ]
  },
  {
   "cell_type": "code",
   "execution_count": 152,
   "metadata": {
    "colab": {
     "base_uri": "https://localhost:8080/"
    },
    "id": "efuZhyqy8SUM",
    "outputId": "69062d98-ca77-4201-d16d-082b686c481b"
   },
   "outputs": [
    {
     "name": "stdout",
     "output_type": "stream",
     "text": [
      "Decision Tree Classification Report:\n",
      "              precision    recall  f1-score   support\n",
      "\n",
      "           0       0.98      0.92      0.95        51\n",
      "           1       0.84      0.95      0.89        22\n",
      "\n",
      "    accuracy                           0.93        73\n",
      "   macro avg       0.91      0.94      0.92        73\n",
      "weighted avg       0.94      0.93      0.93        73\n",
      "\n",
      "\n",
      "[[47  4]\n",
      " [ 1 21]]\n",
      "Random Forest Classification Report:\n",
      "              precision    recall  f1-score   support\n",
      "\n",
      "           0       0.98      0.92      0.95        51\n",
      "           1       0.84      0.95      0.89        22\n",
      "\n",
      "    accuracy                           0.93        73\n",
      "   macro avg       0.91      0.94      0.92        73\n",
      "weighted avg       0.94      0.93      0.93        73\n",
      "\n",
      "\n",
      "[[47  4]\n",
      " [ 1 21]]\n",
      "K-Nearest Neighbors Classification Report:\n",
      "              precision    recall  f1-score   support\n",
      "\n",
      "           0       0.94      0.88      0.91        51\n",
      "           1       0.76      0.86      0.81        22\n",
      "\n",
      "    accuracy                           0.88        73\n",
      "   macro avg       0.85      0.87      0.86        73\n",
      "weighted avg       0.88      0.88      0.88        73\n",
      "\n",
      "\n",
      "[[45  6]\n",
      " [ 3 19]]\n",
      "Logistic Regression Classification Report:\n",
      "              precision    recall  f1-score   support\n",
      "\n",
      "           0       0.90      0.86      0.88        51\n",
      "           1       0.71      0.77      0.74        22\n",
      "\n",
      "    accuracy                           0.84        73\n",
      "   macro avg       0.80      0.82      0.81        73\n",
      "weighted avg       0.84      0.84      0.84        73\n",
      "\n",
      "\n",
      "[[44  7]\n",
      " [ 5 17]]\n",
      "Support Vector Machine Classification Report:\n",
      "              precision    recall  f1-score   support\n",
      "\n",
      "           0       0.92      0.90      0.91        51\n",
      "           1       0.78      0.82      0.80        22\n",
      "\n",
      "    accuracy                           0.88        73\n",
      "   macro avg       0.85      0.86      0.86        73\n",
      "weighted avg       0.88      0.88      0.88        73\n",
      "\n",
      "\n",
      "[[46  5]\n",
      " [ 4 18]]\n",
      "Gaussian Naive Bayes Classification Report:\n",
      "              precision    recall  f1-score   support\n",
      "\n",
      "           0       0.84      0.92      0.88        51\n",
      "           1       0.76      0.59      0.67        22\n",
      "\n",
      "    accuracy                           0.82        73\n",
      "   macro avg       0.80      0.76      0.77        73\n",
      "weighted avg       0.82      0.82      0.81        73\n",
      "\n",
      "\n",
      "[[47  4]\n",
      " [ 9 13]]\n",
      "AdaBoost Classification Report:\n",
      "              precision    recall  f1-score   support\n",
      "\n",
      "           0       0.98      0.94      0.96        51\n",
      "           1       0.88      0.95      0.91        22\n",
      "\n",
      "    accuracy                           0.95        73\n",
      "   macro avg       0.93      0.95      0.94        73\n",
      "weighted avg       0.95      0.95      0.95        73\n",
      "\n",
      "\n",
      "[[48  3]\n",
      " [ 1 21]]\n",
      "Gradient Boosting Classification Report:\n",
      "              precision    recall  f1-score   support\n",
      "\n",
      "           0       0.98      0.92      0.95        51\n",
      "           1       0.84      0.95      0.89        22\n",
      "\n",
      "    accuracy                           0.93        73\n",
      "   macro avg       0.91      0.94      0.92        73\n",
      "weighted avg       0.94      0.93      0.93        73\n",
      "\n",
      "\n",
      "[[47  4]\n",
      " [ 1 21]]\n"
     ]
    }
   ],
   "source": [
    "from sklearn.metrics import classification_report\n",
    "\n",
    "#fit models and generate classification reports\n",
    "for name, model in models.items():\n",
    "    model.fit(X_sampled, y_sampled)\n",
    "    y_pred = model.predict(X_test)\n",
    "    report = classification_report(y_test, y_pred)\n",
    "    print(f'{name} Classification Report:\\n{report}\\n')\n",
    "    print(confusion_matrix(y_test, y_pred))"
   ]
  },
  {
   "cell_type": "markdown",
   "metadata": {},
   "source": [
    "## Hyperparameter Tuning for Model Optimization\n",
    "Here i would be using the RandomizedSearchCv\n",
    "\n",
    "Model tuning is essential to improve performance, accuracy, and generalization of a machine learning model."
   ]
  },
  {
   "cell_type": "code",
   "execution_count": 161,
   "metadata": {},
   "outputs": [
    {
     "name": "stdout",
     "output_type": "stream",
     "text": [
      "Selected Features: Index(['Adenopathy', 'Risk', 'T', 'N', 'Stage', 'Response', 'scaled_age'], dtype='object')\n"
     ]
    }
   ],
   "source": [
    "from sklearn.feature_selection import RFE  # Automate feature selection\n",
    "from sklearn.model_selection import RandomizedSearchCV\n",
    "\n",
    "# Define hyperparameter grid\n",
    "param_grid = {\n",
    "    'n_estimators': [50, 100, 200],\n",
    "    'max_depth': [None, 10, 20],\n",
    "    'min_samples_split': [2, 5, 10]\n",
    "}\n",
    "\n",
    "# Initialize Random Forest model\n",
    "rf = RandomForestClassifier(random_state=42)\n",
    "\n",
    "# Hyperparameter tuning using RandomizedSearchCV\n",
    "rf_cv = RandomizedSearchCV(rf, param_grid, cv=5, scoring='accuracy', n_iter=10, random_state=42)\n",
    "rf_cv.fit(X_train, y_train)  # Fit the model with hyperparameter tuning\n",
    "\n",
    "# Perform Recursive Feature Elimination (RFE) using the best tuned model\n",
    "best_rf = rf_cv.best_estimator_  # Get the best model from RandomizedSearchCV\n",
    "rfe = RFE(estimator=best_rf, n_features_to_select=7)  # Keep the top 7 features\n",
    "X_train_selected = rfe.fit_transform(X_train, y_train)\n",
    "\n",
    "# Print selected feature names\n",
    "selected_features = X_train.columns[rfe.support_]\n",
    "print(\"Selected Features:\", selected_features)\n",
    "\n"
   ]
  },
  {
   "cell_type": "code",
   "execution_count": 163,
   "metadata": {},
   "outputs": [
    {
     "name": "stdout",
     "output_type": "stream",
     "text": [
      "Encoders saved successfully!\n"
     ]
    }
   ],
   "source": [
    "# Define categorical features\n",
    "categorical_features = ['Adenopathy', 'Risk', 'T', 'N', 'Stage', 'Response']\n",
    "\n",
    "# Dictionary to store encoders\n",
    "encoders = {}\n",
    "\n",
    "# Fit and save each encoder\n",
    "for col in categorical_features:\n",
    "    encoder = LabelEncoder()  # Create encoder\n",
    "    encoder.fit(df[col])  # Fit on the training data\n",
    "    encoders[col] = encoder  # Store in dictionary\n",
    "    \n",
    "# Save the entire dictionary (optional, for convenience)\n",
    "joblib.dump(encoders, 'label_encoders.pkl')\n",
    "\n",
    "print(\"Encoders saved successfully!\")\n"
   ]
  },
  {
   "cell_type": "code",
   "execution_count": 167,
   "metadata": {},
   "outputs": [
    {
     "name": "stdout",
     "output_type": "stream",
     "text": [
      "Scaler saved successfully!\n"
     ]
    }
   ],
   "source": [
    "# Save the scaler\n",
    "joblib.dump(Standard_Scaler, 'scaler.pkl')\n",
    "\n",
    "print(\"Scaler saved successfully!\")"
   ]
  },
  {
   "cell_type": "markdown",
   "metadata": {},
   "source": [
    "## Saving the trained model"
   ]
  },
  {
   "cell_type": "code",
   "execution_count": 173,
   "metadata": {},
   "outputs": [
    {
     "data": {
      "text/plain": [
       "['thyroid_recurrence_modell.pkl']"
      ]
     },
     "execution_count": 173,
     "metadata": {},
     "output_type": "execute_result"
    }
   ],
   "source": [
    "import joblib\n",
    "joblib.dump(rfe, 'thyroid_recurrence_modell.pkl')"
   ]
  },
  {
   "cell_type": "code",
   "execution_count": null,
   "metadata": {
    "id": "RWcO6cHJbBv4"
   },
   "outputs": [],
   "source": [
    "input_data = {\n",
    "    'Gender': ['F'],\n",
    "    'Smoking': ['No'],\n",
    "    'Hx Smoking': ['No'],\n",
    "    'Hx Radiothreapy': ['No'],\n",
    "    'Thyroid Function': ['Euthyroid'],\n",
    "    'Physical Examination': ['Single nodular goiter-left'],\n",
    "    'Adenopathy': ['No'], 'Pathology': ['Micropapillary'],\n",
    "    'Focality': ['Uni-Focal'],\n",
    "    'Risk': ['Low'],\n",
    "    'T': ['T1a'],\n",
    "    'N': ['N0'],\n",
    "    'M': ['M0'],\n",
    "    'Stage': ['I'],\n",
    "    'Response': ['Indeterminate'],\n",
    "    'categorized_age': [2],\n",
    "    'scaled_age': [-0.93178003]\n",
    "}"
   ]
  },
  {
   "cell_type": "code",
   "execution_count": null,
   "metadata": {
    "id": "sNnsQNfZdEB2"
   },
   "outputs": [],
   "source": [
    "input_df = pd.DataFrame(input_data)\n",
    "\n",
    "# Encode categorical variables\n",
    "encoder = LabelEncoder()\n",
    "for column in input_df.select_dtypes(include=['object']).columns:\n",
    "  input_df[column] = encoder.fit_transform(input_df[column])\n",
    "\n",
    "# Scale numerical variables\n",
    "scaler = StandardScaler()\n",
    "input_df['scaled_age'] = scaler.fit_transform(input_df[['scaled_age']])"
   ]
  },
  {
   "cell_type": "code",
   "execution_count": null,
   "metadata": {
    "colab": {
     "base_uri": "https://localhost:8080/"
    },
    "id": "Wx2tlLv9nBG4",
    "outputId": "9a1473cc-f168-4305-ef90-0cb312536e18"
   },
   "outputs": [],
   "source": [
    "# Make predictions\n",
    "prediction = model.predict(input_df)\n",
    "print(f'Prediction: {prediction[0]}')"
   ]
  },
  {
   "cell_type": "code",
   "execution_count": null,
   "metadata": {
    "id": "i-r8doqPnGeY"
   },
   "outputs": [],
   "source": []
  }
 ],
 "metadata": {
  "colab": {
   "provenance": []
  },
  "kernelspec": {
   "display_name": "Python [conda env:base] *",
   "language": "python",
   "name": "conda-base-py"
  },
  "language_info": {
   "codemirror_mode": {
    "name": "ipython",
    "version": 3
   },
   "file_extension": ".py",
   "mimetype": "text/x-python",
   "name": "python",
   "nbconvert_exporter": "python",
   "pygments_lexer": "ipython3",
   "version": "3.12.7"
  }
 },
 "nbformat": 4,
 "nbformat_minor": 4
}
